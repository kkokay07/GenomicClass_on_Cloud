{
  "cells": [
    {
      "cell_type": "markdown",
      "metadata": {
        "id": "view-in-github",
        "colab_type": "text"
      },
      "source": [
        "<a href=\"https://colab.research.google.com/github/kkokay07/genomicclass/blob/master/ML_Random_forest.ipynb\" target=\"_parent\"><img src=\"https://colab.research.google.com/assets/colab-badge.svg\" alt=\"Open In Colab\"/></a>"
      ]
    },
    {
      "cell_type": "markdown",
      "metadata": {
        "id": "ih1P-zGuaN4q"
      },
      "source": [
        "# Random Forest Classification - Practical Implementation\n",
        "\n",
        "## Brief Introduction\n",
        "Random Forest is an ensemble learning method that combines multiple decision trees to improve prediction accuracy and control overfitting. Key features:\n",
        "- Uses bootstrap sampling (random sampling with replacement)\n",
        "- Creates multiple decision trees\n",
        "- Combines predictions through voting\n",
        "- Provides feature importance ranking"
      ]
    },
    {
      "cell_type": "code",
      "execution_count": null,
      "metadata": {
        "id": "t58lqhtTaN4u"
      },
      "outputs": [],
      "source": [
        "# Step 1: Import Required Libraries\n",
        "import numpy as np\n",
        "import pandas as pd\n",
        "import matplotlib.pyplot as plt\n",
        "import seaborn as sns\n",
        "from sklearn.model_selection import train_test_split\n",
        "from sklearn.ensemble import RandomForestClassifier\n",
        "from sklearn.metrics import confusion_matrix, classification_report\n",
        "from sklearn.preprocessing import LabelEncoder\n",
        "\n",
        "# Set random seed for reproducibility\n",
        "np.random.seed(42)"
      ]
    },
    {
      "cell_type": "code",
      "execution_count": null,
      "metadata": {
        "id": "-c84g3OTaN4w"
      },
      "outputs": [],
      "source": [
        "# Step 2: Load and Preview Data\n",
        "data = pd.read_csv('your_data.csv')  # Replace with your data file\n",
        "\n",
        "print(\"Dataset Shape:\", data.shape)\n",
        "print(\"\\nFirst few rows:\")\n",
        "display(data.head())\n",
        "\n",
        "# Check for missing values\n",
        "print(\"\\nMissing Values:\")\n",
        "print(data.isnull().sum())"
      ]
    },
    {
      "cell_type": "code",
      "execution_count": null,
      "metadata": {
        "id": "zN6En15CaN4x"
      },
      "outputs": [],
      "source": [
        "# Step 3: Data Preprocessing\n",
        "\n",
        "# Separate features and target\n",
        "X = data.drop('target', axis=1)  # Replace 'target' with your target column name\n",
        "y = data['target']\n",
        "\n",
        "# Encode categorical target if needed\n",
        "label_encoder = LabelEncoder()\n",
        "y = label_encoder.fit_transform(y)\n",
        "\n",
        "# Split data into training and testing sets\n",
        "X_train, X_test, y_train, y_test = train_test_split(\n",
        "    X, y,\n",
        "    test_size=0.2,\n",
        "    random_state=42,\n",
        "    stratify=y\n",
        ")\n",
        "\n",
        "print(\"Training set shape:\", X_train.shape)\n",
        "print(\"Testing set shape:\", X_test.shape)"
      ]
    },
    {
      "cell_type": "code",
      "execution_count": null,
      "metadata": {
        "id": "6Xc2HuiOaN4y"
      },
      "outputs": [],
      "source": [
        "# Step 4: Create and Train Random Forest Model\n",
        "rf_model = RandomForestClassifier(\n",
        "    n_estimators=100,        # Number of trees\n",
        "    max_features='sqrt',     # Number of features to consider at each split\n",
        "    max_depth=None,          # Maximum depth of the trees\n",
        "    min_samples_split=2,     # Minimum samples required to split an internal node\n",
        "    min_samples_leaf=1,      # Minimum samples required to be at a leaf node\n",
        "    bootstrap=True,          # Use bootstrap samples\n",
        "    random_state=42,         # Random state for reproducibility\n",
        "    n_jobs=-1               # Use all available cores\n",
        ")\n",
        "\n",
        "# Train the model\n",
        "rf_model.fit(X_train, y_train)"
      ]
    },
    {
      "cell_type": "code",
      "execution_count": null,
      "metadata": {
        "id": "ia11mmmQaN4y"
      },
      "outputs": [],
      "source": [
        "# Step 5: Make Predictions and Evaluate\n",
        "\n",
        "# Make predictions\n",
        "y_pred = rf_model.predict(X_test)\n",
        "\n",
        "# Create confusion matrix\n",
        "cm = confusion_matrix(y_test, y_pred)\n",
        "\n",
        "# Plot confusion matrix\n",
        "plt.figure(figsize=(10, 8))\n",
        "sns.heatmap(cm, annot=True, fmt='d', cmap='Blues')\n",
        "plt.title('Confusion Matrix')\n",
        "plt.ylabel('True Label')\n",
        "plt.xlabel('Predicted Label')\n",
        "plt.show()\n",
        "\n",
        "# Print classification report\n",
        "print(\"\\nClassification Report:\")\n",
        "print(classification_report(y_test, y_pred,\n",
        "                          target_names=label_encoder.classes_))"
      ]
    },
    {
      "cell_type": "code",
      "execution_count": null,
      "metadata": {
        "id": "x6nhrIflaN4z"
      },
      "outputs": [],
      "source": [
        "# Step 6: Feature Importance Analysis\n",
        "\n",
        "# Get feature importances\n",
        "feature_importance = pd.DataFrame({\n",
        "    'feature': X.columns,\n",
        "    'importance': rf_model.feature_importances_\n",
        "})\n",
        "\n",
        "# Sort by importance\n",
        "feature_importance = feature_importance.sort_values('importance',\n",
        "                                                   ascending=False)\n",
        "\n",
        "# Plot feature importances\n",
        "plt.figure(figsize=(12, 6))\n",
        "sns.barplot(x='importance', y='feature',\n",
        "            data=feature_importance.head(10))\n",
        "plt.title('Top 10 Most Important Features')\n",
        "plt.xlabel('Feature Importance')\n",
        "plt.tight_layout()\n",
        "plt.show()\n",
        "\n",
        "# Print importance values\n",
        "print(\"\\nTop 10 Feature Importances:\")\n",
        "print(feature_importance.head(10))"
      ]
    },
    {
      "cell_type": "code",
      "execution_count": null,
      "metadata": {
        "id": "MQy3hXlOaN40"
      },
      "outputs": [],
      "source": [
        "# Step 7: Save Model (Optional)\n",
        "import joblib\n",
        "\n",
        "# Save the model\n",
        "joblib.dump(rf_model, 'random_forest_model.joblib')\n",
        "\n",
        "# Save the label encoder\n",
        "joblib.dump(label_encoder, 'label_encoder.joblib')\n",
        "\n",
        "print(\"Model and label encoder saved successfully!\")"
      ]
    }
  ],
  "metadata": {
    "kernelspec": {
      "display_name": "Python 3",
      "language": "python",
      "name": "python3"
    },
    "language_info": {
      "codemirror_mode": {
        "name": "ipython",
        "version": 3
      },
      "file_extension": ".py",
      "mimetype": "text/x-python",
      "name": "python",
      "nbconvert_exporter": "python",
      "pygments_lexer": "ipython3",
      "version": "3.8.0"
    },
    "colab": {
      "provenance": [],
      "include_colab_link": true
    }
  },
  "nbformat": 4,
  "nbformat_minor": 0
}
