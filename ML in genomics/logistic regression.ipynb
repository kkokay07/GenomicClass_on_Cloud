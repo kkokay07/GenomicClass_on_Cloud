{
 "cells": [
  {
   "cell_type": "markdown",
   "metadata": {},
   "source": [
    "# Cancer Classification using Logistic Regression\n",
    "\n",
    "## Introduction to Logistic Regression\n",
    "\n",
    "Logistic Regression is a fundamental machine learning algorithm used for classification problems. Despite its name, it's used for classification, not regression!\n",
    "\n",
    "### What is Logistic Regression?\n",
    "- It's like a smart decision-maker that learns from examples\n",
    "- Perfect for yes/no or multiple category predictions\n",
    "- In our case, it will help predict different types of cancers based on genetic markers (SNPs)\n",
    "\n",
    "### How does it work?\n",
    "- Takes input features (in our case, SNP markers)\n",
    "- Calculates probability of belonging to each class (cancer type)\n",
    "- Makes prediction based on highest probability\n",
    "- Uses a special S-shaped curve called 'sigmoid' to make predictions\n",
    "\n",
    "### Why use it?\n",
    "- Simple to understand and explain\n",
    "- Works well for classification problems\n",
    "- Gives probability scores for predictions\n",
    "- Can handle multiple classes (like our different cancer types)"
   ]
  },
  {
   "cell_type": "code",
   "execution_count": null,
   "metadata": {},
   "outputs": [],
   "source": [
    "# Import necessary libraries\n",
    "import pandas as pd\n",
    "import numpy as np\n",
    "from sklearn.model_selection import train_test_split\n",
    "from sklearn.linear_model import LogisticRegression\n",
    "from sklearn.metrics import confusion_matrix, accuracy_score\n",
    "import seaborn as sns\n",
    "import matplotlib.pyplot as plt\n",
    "from sklearn.preprocessing import StandardScaler"
   ]
  },
  {
   "cell_type": "code",
   "execution_count": null,
   "metadata": {},
   "outputs": [],
   "source": [
    "# Load the data\n",
    "data = pd.read_csv('common_cancer.csv')\n",
    "\n",
    "# Display basic information about our dataset\n",
    "print(\"Dataset Overview:\")\n",
    "print(f\"Number of samples: {len(data)}\")\n",
    "print(f\"Number of features: {len(data.columns)}\")\n",
    "print(\"\\nFirst few rows of the data:\")\n",
    "display(data.head())"
   ]
  },
  {
   "cell_type": "code",
   "execution_count": null,
   "metadata": {},
   "outputs": [],
   "source": [
    "# Separate features (X) and target variable (y)\n",
    "X = data.iloc[:, 1:]  # All columns except the first one (cancer types)\n",
    "y = data.iloc[:, 0]   # First column (cancer types)\n",
    "\n",
    "# Split data into training (80%) and testing (20%) sets\n",
    "X_train, X_test, y_train, y_test = train_test_split(X, y, \n",
    "                                                    test_size=0.2, \n",
    "                                                    random_state=42)\n",
    "\n",
    "print(\"Data splitting:\")\n",
    "print(f\"Training set size: {len(X_train)} samples\")\n",
    "print(f\"Testing set size: {len(X_test)} samples\")"
   ]
  },
  {
   "cell_type": "code",
   "execution_count": null,
   "metadata": {},
   "outputs": [],
   "source": [
    "# Scale the features\n",
    "scaler = StandardScaler()\n",
    "X_train_scaled = scaler.fit_transform(X_train)\n",
    "X_test_scaled = scaler.transform(X_test)"
   ]
  },
  {
   "cell_type": "code",
   "execution_count": null,
   "metadata": {},
   "outputs": [],
   "source": [
    "# Create and train the model\n",
    "print(\"Training the model...\")\n",
    "model = LogisticRegression(max_iter=1000)\n",
    "model.fit(X_train_scaled, y_train)\n",
    "\n",
    "# Make predictions\n",
    "y_pred = model.predict(X_test_scaled)"
   ]
  },
  {
   "cell_type": "code",
   "execution_count": null,
   "metadata": {},
   "outputs": [],
   "source": [
    "# Calculate accuracy\n",
    "accuracy = accuracy_score(y_test, y_pred)\n",
    "print(f\"Model Accuracy: {accuracy:.2%}\")\n",
    "\n",
    "# Create confusion matrix\n",
    "conf_matrix = confusion_matrix(y_test, y_pred)\n",
    "\n",
    "# Plot confusion matrix\n",
    "plt.figure(figsize=(10, 8))\n",
    "sns.heatmap(conf_matrix, annot=True, fmt='d', cmap='Blues')\n",
    "plt.title('Confusion Matrix')\n",
    "plt.xlabel('Predicted Cancer Type')\n",
    "plt.ylabel('Actual Cancer Type')\n",
    "plt.show()"
   ]
  },
  {
   "cell_type": "code",
   "execution_count": null,
   "metadata": {},
   "outputs": [],
   "source": [
    "# Calculate feature importance\n",
    "feature_importance = pd.DataFrame({\n",
    "    'SNP': X.columns,\n",
    "    'Importance': np.abs(model.coef_).mean(axis=0)\n",
    "})\n",
    "feature_importance = feature_importance.sort_values('Importance', ascending=False)\n",
    "\n",
    "# Plot top 20 most important features\n",
    "plt.figure(figsize=(12, 6))\n",
    "sns.barplot(data=feature_importance.head(20), x='Importance', y='SNP')\n",
    "plt.title('Top 20 Most Important SNP Markers')\n",
    "plt.xlabel('Importance Score')\n",
    "plt.ylabel('SNP Marker')\n",
    "plt.xticks(rotation=45)\n",
    "plt.tight_layout()\n",
    "plt.show()\n",
    "\n",
    "# Print top 10 important features\n",
    "print(\"\\nTop 10 Most Important SNP Markers:\")\n",
    "print(feature_importance.head(10))"
   ]
  }
 ],
 "metadata": {
  "kernelspec": {
   "display_name": "Python 3",
   "language": "python",
   "name": "python3"
  },
  "language_info": {
   "codemirror_mode": {
    "name": "ipython",
    "version": 3
   },
   "file_extension": ".py",
   "mimetype": "text/x-python",
   "name": "python",
   "nbconvert_exporter": "python",
   "pygments_lexer": "ipython3",
   "version": "3.8.0"
  }
 },
 "nbformat": 4,
 "nbformat_minor": 4
}