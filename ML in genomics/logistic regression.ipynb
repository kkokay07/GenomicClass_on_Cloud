{
 "cells": [
  {
   "cell_type": "markdown",
   "metadata": {
    "colab_type": "text",
    "id": "view-in-github"
   },
   "source": [
    "<a href=\"https://colab.research.google.com/github/genomicclass/ML_in_genomics/blob/main/logistic_regression.ipynb\" target=\"_parent\"><img src=\"https://colab.research.google.com/assets/colab-badge.svg\" alt=\"Open In Colab\"/></a>"
   ]
  },
  {
   "cell_type": "markdown",
   "metadata": {},
   "source": [
    "# Cancer Classification using Logistic Regression - Mathematical Approach\n",
    "\n",
    "## 1. Introduction to Logistic Regression\n",
    "\n",
    "### Mathematical Foundation\n",
    "\n",
    "Logistic Regression is based on the following mathematical concepts:\n",
    "\n",
    "1) **The Logistic Function (Sigmoid)**:\n",
    "   $$\\sigma(z) = \\frac{1}{1 + e^{-z}}$$\n",
    "\n",
    "2) **Linear Combination**:\n",
    "   $$z = w_0 + w_1x_1 + w_2x_2 + ... + w_nx_n = w^Tx + b$$\n",
    "\n",
    "3) **Probability Estimation**:\n",
    "   $$P(Y=1|X) = \\sigma(w^TX + b)$$\n",
    "\n",
    "### Why Logistic Regression for SNP Analysis?\n",
    "- Handles multiple classes (different cancer types)\n",
    "- Provides probabilistic output\n",
    "- Interpretable feature importance\n",
    "- Works well with categorical data (SNP genotypes)"
   ]
  },
  {
   "cell_type": "code",
   "execution_count": null,
   "metadata": {},
   "outputs": [],
   "source": [
    "# Import required libraries\n",
    "import pandas as pd\n",
    "import numpy as np\n",
    "from sklearn.model_selection import train_test_split\n",
    "from sklearn.linear_model import LogisticRegression\n",
    "from sklearn.metrics import confusion_matrix, accuracy_score, classification_report\n",
    "import seaborn as sns\n",
    "import matplotlib.pyplot as plt\n",
    "from sklearn.preprocessing import StandardScaler\n",
    "\n",
    "# Plot the sigmoid function\n",
    "x = np.linspace(-10, 10, 100)\n",
    "sigmoid = 1/(1 + np.exp(-x))\n",
    "\n",
    "plt.figure(figsize=(10, 6))\n",
    "plt.plot(x, sigmoid)\n",
    "plt.title('Sigmoid Function: σ(z) = 1/(1 + e^(-z))')\n",
    "plt.xlabel('z')\n",
    "plt.ylabel('σ(z)')\n",
    "plt.grid(True)\n",
    "plt.show()"
   ]
  },
  {
   "cell_type": "markdown",
   "metadata": {},
   "source": [
    "## 2. Data Loading and Preprocessing\n",
    "\n",
    "### Understanding SNP Data\n",
    "SNP values represent genotypes:\n",
    "- 1: Homozygous reference (AA)\n",
    "- 2: Heterozygous (AB)\n",
    "- 3: Homozygous alternate (BB)"
   ]
  },
  {
   "cell_type": "code",
   "execution_count": null,
   "metadata": {},
   "outputs": [],
   "source": [
    "# Load the data\n",
    "data = pd.read_csv('common_cancer.csv')\n",
    "\n",
    "print(\"Dataset Information:\")\n",
    "print(f\"Number of samples: {len(data)}\")\n",
    "print(f\"Number of SNPs: {len(data.columns)-1}\")\n",
    "\n",
    "# Display first few rows\n",
    "print(\"\\nFirst few rows of the data:\")\n",
    "display(data.head())\n",
    "\n",
    "# Plot distribution of cancer types\n",
    "plt.figure(figsize=(12, 6))\n",
    "cancer_counts = data.iloc[:, 0].value_counts()\n",
    "sns.barplot(x=cancer_counts.index, y=cancer_counts.values)\n",
    "plt.title('Distribution of Cancer Types')\n",
    "plt.xlabel('Cancer Type')\n",
    "plt.ylabel('Count')\n",
    "plt.xticks(rotation=45)\n",
    "plt.tight_layout()\n",
    "plt.show()"
   ]
  },
  {
   "cell_type": "markdown",
   "metadata": {},
   "source": [
    "## 3. Data Preprocessing\n",
    "\n",
    "### Feature Scaling\n",
    "We standardize features using the formula:\n",
    "$$X_{scaled} = \\frac{X - \\mu}{\\sigma}$$\n",
    "\n",
    "Where:\n",
    "- μ is the mean\n",
    "- σ is the standard deviation"
   ]
  },
  {
   "cell_type": "code",
   "execution_count": null,
   "metadata": {},
   "outputs": [],
   "source": [
    "# Split features and target\n",
    "X = data.iloc[:, 1:]  # SNP features\n",
    "y = data.iloc[:, 0]   # Cancer types\n",
    "\n",
    "# Split into training (80%) and testing (20%) sets\n",
    "X_train, X_test, y_train, y_test = train_test_split(X, y, \n",
    "                                                    test_size=0.2, \n",
    "                                                    random_state=42,\n",
    "                                                    stratify=y)\n",
    "\n",
    "# Scale features\n",
    "scaler = StandardScaler()\n",
    "X_train_scaled = scaler.fit_transform(X_train)\n",
    "X_test_scaled = scaler.transform(X_test)\n",
    "\n",
    "print(\"Training set shape:\", X_train_scaled.shape)\n",
    "print(\"Testing set shape:\", X_test_scaled.shape)\n",
    "\n",
    "# Show feature statistics before and after scaling\n",
    "print(\"\\nFeature statistics before scaling:\")\n",
    "print(pd.DataFrame(X_train).describe().loc[['mean', 'std']].round(2))\n",
    "\n",
    "print(\"\\nFeature statistics after scaling:\")\n",
    "print(pd.DataFrame(X_train_scaled).describe().loc[['mean', 'std']].round(2))"
   ]
  },
  {
   "cell_type": "markdown",
   "metadata": {},
   "source": [
    "## 4. Model Training\n",
    "\n",
    "### Multinomial Logistic Regression\n",
    "For K classes, probability for each class k is calculated as:\n",
    "\n",
    "$$P(Y=k|X) = \\frac{e^{w_k^TX}}{\\sum_{j=1}^K e^{w_j^TX}}$$\n",
    "\n",
    "The model minimizes the cross-entropy loss:\n",
    "$$L = -\\sum_{i=1}^n \\sum_{k=1}^K y_{ik}\\log(p_{ik})$$"
   ]
  },
  {
   "cell_type": "code",
   "execution_count": null,
   "metadata": {},
   "outputs": [],
   "source": [
    "# Create and train the model\n",
    "model = LogisticRegression(max_iter=1000, \n",
    "                          multi_class='multinomial',\n",
    "                          solver='lbfgs')\n",
    "\n",
    "print(\"Training the model...\")\n",
    "model.fit(X_train_scaled, y_train)\n",
    "\n",
    "# Make predictions\n",
    "y_pred = model.predict(X_test_scaled)\n",
    "y_pred_prob = model.predict_proba(X_test_scaled)\n",
    "\n",
    "print(\"\\nModel trained successfully!\")"
   ]
  },
  {
   "cell_type": "markdown",
   "metadata": {},
   "source": [
    "## 5. Model Evaluation\n",
    "\n",
    "### Key Metrics\n",
    "\n",
    "1. **Accuracy**:\n",
    "   $$\\text{Accuracy} = \\frac{\\text{Correct Predictions}}{\\text{Total Predictions}}$$\n",
    "\n",
    "2. **Precision** (for each class):\n",
    "   $$\\text{Precision} = \\frac{\\text{True Positives}}{\\text{True Positives + False Positives}}$$\n",
    "\n",
    "3. **Recall** (for each class):\n",
    "   $$\\text{Recall} = \\frac{\\text{True Positives}}{\\text{True Positives + False Negatives}}$$"
   ]
  },
  {
   "cell_type": "code",
   "execution_count": null,
   "metadata": {},
   "outputs": [],
   "source": [
    "# Calculate metrics\n",
    "accuracy = accuracy_score(y_test, y_pred)\n",
    "print(f\"Model Accuracy: {accuracy:.2%}\")\n",
    "\n",
    "print(\"\\nDetailed Classification Report:\")\n",
    "print(classification_report(y_test, y_pred))\n",
    "\n",
    "# Create confusion matrix\n",
    "conf_matrix = confusion_matrix(y_test, y_pred)\n",
    "\n",
    "# Plot confusion matrix\n",
    "plt.figure(figsize=(12, 10))\n",
    "sns.heatmap(conf_matrix, \n",
    "            annot=True, \n",
    "            fmt='d', \n",
    "            cmap='Blues',\n",
    "            xticklabels=model.classes_,\n",
    "            yticklabels=model.classes_)\n",
    "plt.title('Confusion Matrix')\n",
    "plt.xlabel('Predicted Cancer Type')\n",
    "plt.ylabel('Actual Cancer Type')\n",
    "plt.tight_layout()\n",
    "plt.show()"
   ]
  },
  {
   "cell_type": "markdown",
   "metadata": {},
   "source": [
    "## 6. Feature Importance Analysis\n",
    "\n",
    "### Mathematical Interpretation\n",
    "For each feature i, importance is calculated as:\n",
    "$$\\text{Importance}_i = \\frac{1}{K}\\sum_{k=1}^K |w_{ik}|$$\n",
    "\n",
    "Where:\n",
    "- K is the number of classes\n",
    "- $w_{ik}$ is the coefficient for feature i in class k"
   ]
  },
  {
   "cell_type": "code",
   "execution_count": null,
   "metadata": {},
   "outputs": [],
   "source": [
    "# Calculate feature importance\n",
    "feature_importance = pd.DataFrame({\n",
    "    'SNP': X.columns,\n",
    "    'Importance': np.abs(model.coef_).mean(axis=0)\n",
    "})\n",
    "\n",
    "# Sort by importance\n",
    "feature_importance = feature_importance.sort_values('Importance', ascending=False)\n",
    "\n",
    "# Plot top 20 features\n",
    "plt.figure(figsize=(12, 6))\n",
    "sns.barplot(data=feature_importance.head(20), x='Importance', y='SNP')\n",
    "plt.title('Top 20 Most Important SNP Markers')\n",
    "plt.xlabel('Average Absolute Coefficient Value')\n",
    "plt.ylabel('SNP Marker')\n",
    "plt.xticks(rotation=45)\n",
    "plt.tight_layout()\n",
    "plt.show()\n",
    "\n",
    "# Print top 10 SNPs\n",
    "print(\"\\nTop 10 Most Important SNP Markers:\")\n",
    "print(feature_importance.head(10))"
   ]
  }
 ],
 "metadata": {
  "kernelspec": {
   "display_name": "Python 3",
   "language": "python",
   "name": "python3"
  },
  "language_info": {
   "codemirror_mode": {
    "name": "ipython",
    "version": 3
   },
   "file_extension": ".py",
   "mimetype": "text/x-python",
   "name": "python",
   "nbconvert_exporter": "python",
   "pygments_lexer": "ipython3",
   "version": "3.8.0"
  },
  "colab": {
   "provenance": [],
   "include_colab_link": true
  }
 },
 "nbformat": 4,
 "nbformat_minor": 4
}