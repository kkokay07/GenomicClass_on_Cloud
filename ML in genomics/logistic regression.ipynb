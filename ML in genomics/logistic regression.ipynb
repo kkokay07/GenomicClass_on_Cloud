Here's a step-by-step guide to create a Google Colab notebook for logistic regression classification using your dataset. The notebook will include explanations before each step and an introduction to logistic regression classification.

### Step 1: Initial Setup of the Notebook

#### Introduction to Logistic Regression Classification
```markdown
# Logistic Regression Classification

Logistic Regression is a statistical method for predicting binary outcomes from data. It is used when the target variable is categorical and typically binary (yes/no, true/false, cancer/no cancer). The algorithm models the probability that a given input point belongs to a certain class. In this notebook, we will use logistic regression to classify individuals into cancer types based on SNP markers.
```

#### Import Necessary Libraries
```python
# Import necessary libraries
import pandas as pd
import numpy as np
from sklearn.model_selection import train_test_split
from sklearn.linear_model import LogisticRegression
from sklearn.metrics import confusion_matrix, classification_report
import matplotlib.pyplot as plt
import seaborn as sns
```

#### Load the Dataset
```python
# Load the dataset
data = pd.read_csv('/content/common_cancer.csv')
data.head()
```

### Step 2: Process the Data and Build the Model

#### Split the Data into Training and Testing Sets
```markdown
## Split the Data

We will split the data into training and testing sets. The training set will be 80% of the data, and the testing set will be 20%. This will help us train the model on one portion of the data and test it on another to evaluate its performance.
```

```python
# Split the data into features and target variable
X = data.drop(columns=['target'])  # Replace 'target' with your target column name
y = data['target']  # Replace 'target' with your target column name

# Split the data into training and testing sets
X_train, X_test, y_train, y_test = train_test_split(X, y, test_size=0.2, random_state=42)
```

#### Train the Logistic Regression Model
```markdown
## Train the Logistic Regression Model

We will use the training data to train the logistic regression model. This step involves fitting the model to the data so that it can learn the relationships between the features and the target variable.
```

```python
# Train the logistic regression model
model = LogisticRegression(max_iter=1000)
model.fit(X_train, y_train)
```

#### Test the Model and Build a Confusion Matrix
```markdown
## Test the Model and Build a Confusion Matrix

We will use the testing data to make predictions and then evaluate the model's performance using a confusion matrix. The confusion matrix will help us understand how well the model is performing by comparing the actual and predicted values.
```

```python
# Make predictions on the testing set
y_pred = model.predict(X_test)

# Build a confusion matrix
conf_matrix = confusion_matrix(y_test, y_pred)

# Plot the confusion matrix
plt.figure(figsize=(10, 7))
sns.heatmap(conf_matrix, annot=True, fmt='d', cmap='Blues')
plt.xlabel('Predicted')
plt.ylabel('Actual')
plt.title('Confusion Matrix')
plt.show()

# Print classification report
print(classification_report(y_test, y_pred))
```

### Extract Feature Importance
```markdown
## Feature Importance

We will extract the feature importance to understand which features are most significant in making predictions. This will help us identify the SNP markers that are most relevant to the classification.
```

```python
# Get feature importance
feature_importance = model.coef_[0]
feature_names = X.columns

# Create a DataFrame for feature importance
importance_df = pd.DataFrame({'Feature': feature_names, 'Importance': feature_importance})
importance_df = importance_df.sort_values(by='Importance', ascending=False)

# Plot feature importance
plt.figure(figsize=(10, 7))
sns.barplot(x='Importance', y='Feature', data=importance_df)
plt.title('Feature Importance')
plt.show()
```

### Running the Notebook in Google Colab
To run this notebook in Google Colab, you can create a new notebook on Colab and copy-paste the above code cells. Alternatively, you can add an "Open in Colab" badge to your GitHub repository for easy access.

```markdown
[![Open In Colab](https://colab.research.google.com/assets/colab-badge.svg)](https://colab.research.google.com/github/kkokay07/genomicclass/blob/master/ML%20in%20genomics/logistic_regression.ipynb)
```

This will allow you to open your notebook directly in Google Colab by clicking the badge.
