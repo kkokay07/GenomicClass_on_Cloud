{
  "nbformat": 4,
  "nbformat_minor": 0,
  "metadata": {
    "colab": {
      "provenance": [],
      "authorship_tag": "ABX9TyPnz1FvJ9wBsTbOzNeqgVm1",
      "include_colab_link": true
    },
    "kernelspec": {
      "name": "python3",
      "display_name": "Python 3"
    },
    "language_info": {
      "name": "python"
    }
  },
  "cells": [
    {
      "cell_type": "markdown",
      "metadata": {
        "id": "view-in-github",
        "colab_type": "text"
      },
      "source": [
        "<a href=\"https://colab.research.google.com/github/kkokay07/genomicclass/blob/master/NGS_1_Variant_calling.ipynb\" target=\"_parent\"><img src=\"https://colab.research.google.com/assets/colab-badge.svg\" alt=\"Open In Colab\"/></a>"
      ]
    },
    {
      "cell_type": "markdown",
      "source": [
        "# Setup Environment\n",
        "\"\"\"First, we need to install the required bioinformatics tools\"\"\""
      ],
      "metadata": {
        "id": "-T4AAjzaw7_f"
      }
    },
    {
      "cell_type": "code",
      "source": [
        "# install required tools\n",
        "!apt-get update && apt-get install -y fastp bwa samtools bcftools"
      ],
      "metadata": {
        "colab": {
          "base_uri": "https://localhost:8080/"
        },
        "collapsed": true,
        "id": "xgwv0AiJx2bZ",
        "outputId": "a354f471-3e96-4f55-c29c-540627e386c8"
      },
      "execution_count": 1,
      "outputs": [
        {
          "output_type": "stream",
          "name": "stdout",
          "text": [
            "Get:1 https://cloud.r-project.org/bin/linux/ubuntu jammy-cran40/ InRelease [3,626 B]\n",
            "Hit:2 https://developer.download.nvidia.com/compute/cuda/repos/ubuntu2204/x86_64  InRelease\n",
            "Get:3 http://security.ubuntu.com/ubuntu jammy-security InRelease [129 kB]\n",
            "Hit:4 http://archive.ubuntu.com/ubuntu jammy InRelease\n",
            "Get:5 http://archive.ubuntu.com/ubuntu jammy-updates InRelease [128 kB]\n",
            "Get:6 https://r2u.stat.illinois.edu/ubuntu jammy InRelease [6,555 B]\n",
            "Hit:7 https://ppa.launchpadcontent.net/deadsnakes/ppa/ubuntu jammy InRelease\n",
            "Hit:8 https://ppa.launchpadcontent.net/graphics-drivers/ppa/ubuntu jammy InRelease\n",
            "Hit:9 https://ppa.launchpadcontent.net/ubuntugis/ppa/ubuntu jammy InRelease\n",
            "Get:10 https://r2u.stat.illinois.edu/ubuntu jammy/main all Packages [8,514 kB]\n",
            "Get:11 http://archive.ubuntu.com/ubuntu jammy-backports InRelease [127 kB]\n",
            "Get:12 http://security.ubuntu.com/ubuntu jammy-security/main amd64 Packages [2,454 kB]\n",
            "Get:13 http://archive.ubuntu.com/ubuntu jammy-updates/main amd64 Packages [2,738 kB]\n",
            "Get:14 http://security.ubuntu.com/ubuntu jammy-security/universe amd64 Packages [1,224 kB]\n",
            "Get:15 https://r2u.stat.illinois.edu/ubuntu jammy/main amd64 Packages [2,621 kB]\n",
            "Get:16 http://archive.ubuntu.com/ubuntu jammy-updates/universe amd64 Packages [1,513 kB]\n",
            "Get:17 http://archive.ubuntu.com/ubuntu jammy-backports/universe amd64 Packages [33.8 kB]\n",
            "Fetched 19.5 MB in 6s (3,439 kB/s)\n",
            "Reading package lists... Done\n",
            "W: Skipping acquire of configured file 'main/source/Sources' as repository 'https://r2u.stat.illinois.edu/ubuntu jammy InRelease' does not seem to provide it (sources.list entry misspelt?)\n",
            "Reading package lists... Done\n",
            "Building dependency tree... Done\n",
            "Reading state information... Done\n",
            "The following additional packages will be installed:\n",
            "  libhts3 libhtscodecs2\n",
            "Suggested packages:\n",
            "  python3-numpy python3-matplotlib texlive-latex-recommended cwltool\n",
            "The following NEW packages will be installed:\n",
            "  bcftools bwa fastp libhts3 libhtscodecs2 samtools\n",
            "0 upgraded, 6 newly installed, 0 to remove and 57 not upgraded.\n",
            "Need to get 2,048 kB of archives.\n",
            "After this operation, 5,736 kB of additional disk space will be used.\n",
            "Get:1 http://archive.ubuntu.com/ubuntu jammy/universe amd64 libhtscodecs2 amd64 1.1.1-3 [53.2 kB]\n",
            "Get:2 http://archive.ubuntu.com/ubuntu jammy/universe amd64 libhts3 amd64 1.13+ds-2build1 [390 kB]\n",
            "Get:3 http://archive.ubuntu.com/ubuntu jammy/universe amd64 bcftools amd64 1.13-1 [697 kB]\n",
            "Get:4 http://archive.ubuntu.com/ubuntu jammy/universe amd64 bwa amd64 0.7.17-6 [195 kB]\n",
            "Get:5 http://archive.ubuntu.com/ubuntu jammy/universe amd64 fastp amd64 0.20.1+dfsg-1 [193 kB]\n",
            "Get:6 http://archive.ubuntu.com/ubuntu jammy/universe amd64 samtools amd64 1.13-4 [520 kB]\n",
            "Fetched 2,048 kB in 2s (871 kB/s)\n",
            "Selecting previously unselected package libhtscodecs2:amd64.\n",
            "(Reading database ... 123630 files and directories currently installed.)\n",
            "Preparing to unpack .../0-libhtscodecs2_1.1.1-3_amd64.deb ...\n",
            "Unpacking libhtscodecs2:amd64 (1.1.1-3) ...\n",
            "Selecting previously unselected package libhts3:amd64.\n",
            "Preparing to unpack .../1-libhts3_1.13+ds-2build1_amd64.deb ...\n",
            "Unpacking libhts3:amd64 (1.13+ds-2build1) ...\n",
            "Selecting previously unselected package bcftools.\n",
            "Preparing to unpack .../2-bcftools_1.13-1_amd64.deb ...\n",
            "Unpacking bcftools (1.13-1) ...\n",
            "Selecting previously unselected package bwa.\n",
            "Preparing to unpack .../3-bwa_0.7.17-6_amd64.deb ...\n",
            "Unpacking bwa (0.7.17-6) ...\n",
            "Selecting previously unselected package fastp.\n",
            "Preparing to unpack .../4-fastp_0.20.1+dfsg-1_amd64.deb ...\n",
            "Unpacking fastp (0.20.1+dfsg-1) ...\n",
            "Selecting previously unselected package samtools.\n",
            "Preparing to unpack .../5-samtools_1.13-4_amd64.deb ...\n",
            "Unpacking samtools (1.13-4) ...\n",
            "Setting up libhtscodecs2:amd64 (1.1.1-3) ...\n",
            "Setting up libhts3:amd64 (1.13+ds-2build1) ...\n",
            "Setting up bwa (0.7.17-6) ...\n",
            "Setting up bcftools (1.13-1) ...\n",
            "Setting up samtools (1.13-4) ...\n",
            "Setting up fastp (0.20.1+dfsg-1) ...\n",
            "Processing triggers for man-db (2.10.2-1) ...\n",
            "Processing triggers for libc-bin (2.35-0ubuntu3.4) ...\n",
            "/sbin/ldconfig.real: /usr/local/lib/libur_loader.so.0 is not a symbolic link\n",
            "\n",
            "/sbin/ldconfig.real: /usr/local/lib/libtcm_debug.so.1 is not a symbolic link\n",
            "\n",
            "/sbin/ldconfig.real: /usr/local/lib/libtbbbind_2_5.so.3 is not a symbolic link\n",
            "\n",
            "/sbin/ldconfig.real: /usr/local/lib/libtbbmalloc_proxy.so.2 is not a symbolic link\n",
            "\n",
            "/sbin/ldconfig.real: /usr/local/lib/libur_adapter_opencl.so.0 is not a symbolic link\n",
            "\n",
            "/sbin/ldconfig.real: /usr/local/lib/libtbbbind_2_0.so.3 is not a symbolic link\n",
            "\n",
            "/sbin/ldconfig.real: /usr/local/lib/libtbbbind.so.3 is not a symbolic link\n",
            "\n",
            "/sbin/ldconfig.real: /usr/local/lib/libtbb.so.12 is not a symbolic link\n",
            "\n",
            "/sbin/ldconfig.real: /usr/local/lib/libtcm.so.1 is not a symbolic link\n",
            "\n",
            "/sbin/ldconfig.real: /usr/local/lib/libur_adapter_level_zero.so.0 is not a symbolic link\n",
            "\n",
            "/sbin/ldconfig.real: /usr/local/lib/libtbbmalloc.so.2 is not a symbolic link\n",
            "\n",
            "/sbin/ldconfig.real: /usr/local/lib/libhwloc.so.15 is not a symbolic link\n",
            "\n",
            "/sbin/ldconfig.real: /usr/local/lib/libumf.so.0 is not a symbolic link\n",
            "\n"
          ]
        }
      ]
    },
    {
      "cell_type": "code",
      "source": [
        "# install SRA toolkit to download samples\n",
        "!wget https://ftp-trace.ncbi.nlm.nih.gov/sra/sdk/current/sratoolkit.current-ubuntu64.tar.gz\n",
        "!tar -xzf sratoolkit.current-ubuntu64.tar.gz\n",
        "!mv sratoolkit.*/bin/* /usr/local/bin/"
      ],
      "metadata": {
        "id": "7jp8laJz7j58"
      },
      "execution_count": null,
      "outputs": []
    },
    {
      "cell_type": "markdown",
      "source": [
        "# 1. Understanding Input Data: FASTQ Format\n",
        "\n",
        "FASTQ files contain sequencing reads with quality scores. Each read has 4 lines:\n",
        "1. Read identifier (starts with @)\n",
        "2. Sequence\n",
        "3. '+' separator\n",
        "4. Quality scores (ASCII-encoded)\n",
        "\n",
        "Example of FASTQ format:\n",
        "@SRR001666.1\n",
        "GATTTGGGGTTCAAAGCAGTATCGATCAAATAGTAAATCCATTTGTTCAACTCACAGTTT\n",
        "+\n",
        "!''*((((***+))%%%++)(%%%%).1***-+*''))**55CCF>>>>>>CCCCCCC65\n",
        "\n",
        "Let's download a small test dataset (E. coli K-12): This tutorial demonstrates variant calling with two samples, each with paired-end reads.\n",
        "Sample1 and Sample2\n",
        "Each sample has forward (R1) and reverse (R2) reads."
      ],
      "metadata": {
        "id": "ZNK8WQh5x80n"
      }
    },
    {
      "cell_type": "code",
      "source": [
        "# Download first sample\n",
        "!fastq-dump --split-files --gzip SRR14600276\n",
        "!mv SRR14600276_1.fastq.gz original_R1.fastq.gz\n",
        "!mv SRR14600276_2.fastq.gz original_R2.fastq.gz\n",
        "\n",
        "# Verify the files exist and check sizes\n",
        "!ls -lh original_*.fastq.gz\n",
        "\n",
        "# Now split original data into different datasets/samples (for demonstration only; bcoz working with original files needs more computaional space)\n",
        "!zcat original_R1.fastq.gz | head -n 4000 | gzip > sample1_R1.fastq.gz\n",
        "!zcat original_R1.fastq.gz | tail -n 4000 | gzip > sample2_R1.fastq.gz\n",
        "!zcat original_R2.fastq.gz | head -n 4000 | gzip > sample1_R2.fastq.gz\n",
        "!zcat original_R2.fastq.gz | tail -n 4000 | gzip > sample2_R2.fastq.gz\n",
        "\n",
        "# Verify all final files\n",
        "!ls -lh *.fastq.gz"
      ],
      "metadata": {
        "colab": {
          "base_uri": "https://localhost:8080/"
        },
        "id": "c3Dn6Al9yMlK",
        "outputId": "ab168f21-add7-40a9-844b-c1e2661b844c"
      },
      "execution_count": 8,
      "outputs": [
        {
          "output_type": "stream",
          "name": "stdout",
          "text": [
            "Read 783371 spots for SRR14600276\n",
            "Written 783371 spots for SRR14600276\n",
            "-rw-r--r-- 1 root root 20M Nov 30 02:46 original_R1.fastq.gz\n",
            "-rw-r--r-- 1 root root 20M Nov 30 02:46 original_R2.fastq.gz\n",
            "-rw-r--r-- 1 root root 20M Nov 30 02:46 original_R1.fastq.gz\n",
            "-rw-r--r-- 1 root root 20M Nov 30 02:46 original_R2.fastq.gz\n",
            "-rw-r--r-- 1 root root 26K Nov 30 02:46 sample1_R1.fastq.gz\n",
            "-rw-r--r-- 1 root root 26K Nov 30 02:46 sample1_R2.fastq.gz\n",
            "-rw-r--r-- 1 root root 27K Nov 30 02:46 sample2_R1.fastq.gz\n",
            "-rw-r--r-- 1 root root 28K Nov 30 02:46 sample2_R2.fastq.gz\n"
          ]
        }
      ]
    },
    {
      "cell_type": "markdown",
      "source": [
        "# 2. Reference Genome\n",
        "\n",
        "We need a reference genome to align our reads. For E. coli K-12, we'll download it from NCBI:"
      ],
      "metadata": {
        "id": "9LPK8yX1zXTH"
      }
    },
    {
      "cell_type": "code",
      "source": [
        "# Download and prepare reference genome\n",
        "!wget https://ftp.ncbi.nlm.nih.gov/genomes/all/GCF/000/005/845/GCF_000005845.2_ASM584v2/GCF_000005845.2_ASM584v2_genomic.fna.gz\n",
        "!gunzip GCF_000005845.2_ASM584v2_genomic.fna.gz\n",
        "!mv GCF_000005845.2_ASM584v2_genomic.fna reference.fasta\n",
        "\n",
        "# Verify the reference genome file exists\n",
        "!ls -lh reference.fasta"
      ],
      "metadata": {
        "colab": {
          "base_uri": "https://localhost:8080/"
        },
        "id": "xTnUAF4aze8A",
        "outputId": "a7bcf734-0ccd-44cc-e2d9-ee2c5d6fb2fc"
      },
      "execution_count": 10,
      "outputs": [
        {
          "output_type": "stream",
          "name": "stdout",
          "text": [
            "--2024-11-30 02:47:53--  https://ftp.ncbi.nlm.nih.gov/genomes/all/GCF/000/005/845/GCF_000005845.2_ASM584v2/GCF_000005845.2_ASM584v2_genomic.fna.gz\n",
            "Resolving ftp.ncbi.nlm.nih.gov (ftp.ncbi.nlm.nih.gov)... 130.14.250.11, 130.14.250.12, 130.14.250.13, ...\n",
            "Connecting to ftp.ncbi.nlm.nih.gov (ftp.ncbi.nlm.nih.gov)|130.14.250.11|:443... connected.\n",
            "HTTP request sent, awaiting response... 200 OK\n",
            "Length: 1379902 (1.3M) [application/x-gzip]\n",
            "Saving to: ‘GCF_000005845.2_ASM584v2_genomic.fna.gz’\n",
            "\n",
            "GCF_000005845.2_ASM 100%[===================>]   1.32M  1003KB/s    in 1.3s    \n",
            "\n",
            "2024-11-30 02:47:56 (1003 KB/s) - ‘GCF_000005845.2_ASM584v2_genomic.fna.gz’ saved [1379902/1379902]\n",
            "\n",
            "-rw-r--r-- 1 root root 4.5M Oct 31  2014 reference.fasta\n"
          ]
        }
      ]
    },
    {
      "cell_type": "markdown",
      "source": [
        "# 3. Quality Control with fastp\n",
        "\n",
        "fastp performs quality control and filtering on FASTQ files.\n",
        "- Removes low-quality bases\n",
        "- Trims adapters\n",
        "- Generates QC reports\n",
        "\n",
        "Input:\n",
        "- Raw FASTQ files\n",
        "\n",
        "\n",
        "Output:\n",
        "- Cleaned FASTQ files\n",
        "- HTML report with quality metrics"
      ],
      "metadata": {
        "id": "bE9qFAvczr0n"
      }
    },
    {
      "cell_type": "code",
      "source": [
        "# Process Sample 1\n",
        "!fastp -i sample1_R1.fastq.gz \\\n",
        "       -I sample1_R2.fastq.gz \\\n",
        "       -o cleaned_sample1_R1.fastq.gz \\\n",
        "       -O cleaned_sample1_R2.fastq.gz \\\n",
        "       --html sample1_fastp_report.html"
      ],
      "metadata": {
        "colab": {
          "base_uri": "https://localhost:8080/"
        },
        "collapsed": true,
        "id": "9I5srfCVzxsB",
        "outputId": "15da053a-5667-4299-b1e7-22d6a977aa5c"
      },
      "execution_count": 11,
      "outputs": [
        {
          "output_type": "stream",
          "name": "stdout",
          "text": [
            "Read1 before filtering:\n",
            "total reads: 1000\n",
            "total bases: 38000\n",
            "Q20 bases: 35036(92.2%)\n",
            "Q30 bases: 34326(90.3316%)\n",
            "\n",
            "Read2 before filtering:\n",
            "total reads: 1000\n",
            "total bases: 38000\n",
            "Q20 bases: 35151(92.5026%)\n",
            "Q30 bases: 34448(90.6526%)\n",
            "\n",
            "Read1 after filtering:\n",
            "total reads: 998\n",
            "total bases: 37924\n",
            "Q20 bases: 34982(92.2424%)\n",
            "Q30 bases: 34272(90.3702%)\n",
            "\n",
            "Read2 aftering filtering:\n",
            "total reads: 998\n",
            "total bases: 37924\n",
            "Q20 bases: 35101(92.5562%)\n",
            "Q30 bases: 34398(90.7025%)\n",
            "\n",
            "Filtering result:\n",
            "reads passed filter: 1996\n",
            "reads failed due to low quality: 2\n",
            "reads failed due to too many N: 2\n",
            "reads failed due to too short: 0\n",
            "reads with adapter trimmed: 0\n",
            "bases trimmed due to adapters: 0\n",
            "\n",
            "Duplication rate: 0%\n",
            "\n",
            "Insert size peak (evaluated by paired-end reads): 0\n",
            "\n",
            "JSON report: fastp.json\n",
            "HTML report: sample1_fastp_report.html\n",
            "\n",
            "fastp -i sample1_R1.fastq.gz -I sample1_R2.fastq.gz -o cleaned_sample1_R1.fastq.gz -O cleaned_sample1_R2.fastq.gz --html sample1_fastp_report.html \n",
            "fastp v0.20.1, time used: 1 seconds\n"
          ]
        }
      ]
    },
    {
      "cell_type": "code",
      "source": [
        "# Process Sample 2\n",
        "!fastp -i sample2_R1.fastq.gz \\\n",
        "       -I sample2_R2.fastq.gz \\\n",
        "       -o cleaned_sample2_R1.fastq.gz \\\n",
        "       -O cleaned_sample2_R2.fastq.gz \\\n",
        "       --html sample2_fastp_report.html"
      ],
      "metadata": {
        "colab": {
          "base_uri": "https://localhost:8080/"
        },
        "collapsed": true,
        "id": "SSB5d-Q52UOE",
        "outputId": "763bac05-6dd4-401c-eefa-a1916c3049b8"
      },
      "execution_count": 12,
      "outputs": [
        {
          "output_type": "stream",
          "name": "stdout",
          "text": [
            "Read1 before filtering:\n",
            "total reads: 1000\n",
            "total bases: 38000\n",
            "Q20 bases: 34256(90.1474%)\n",
            "Q30 bases: 32661(85.95%)\n",
            "\n",
            "Read2 before filtering:\n",
            "total reads: 1000\n",
            "total bases: 38000\n",
            "Q20 bases: 34136(89.8316%)\n",
            "Q30 bases: 31925(84.0132%)\n",
            "\n",
            "Read1 after filtering:\n",
            "total reads: 994\n",
            "total bases: 37772\n",
            "Q20 bases: 34100(90.2785%)\n",
            "Q30 bases: 32523(86.1035%)\n",
            "\n",
            "Read2 aftering filtering:\n",
            "total reads: 994\n",
            "total bases: 37772\n",
            "Q20 bases: 34004(90.0244%)\n",
            "Q30 bases: 31817(84.2344%)\n",
            "\n",
            "Filtering result:\n",
            "reads passed filter: 1988\n",
            "reads failed due to low quality: 12\n",
            "reads failed due to too many N: 0\n",
            "reads failed due to too short: 0\n",
            "reads with adapter trimmed: 0\n",
            "bases trimmed due to adapters: 0\n",
            "\n",
            "Duplication rate: 0%\n",
            "\n",
            "Insert size peak (evaluated by paired-end reads): 0\n",
            "\n",
            "JSON report: fastp.json\n",
            "HTML report: sample2_fastp_report.html\n",
            "\n",
            "fastp -i sample2_R1.fastq.gz -I sample2_R2.fastq.gz -o cleaned_sample2_R1.fastq.gz -O cleaned_sample2_R2.fastq.gz --html sample2_fastp_report.html \n",
            "fastp v0.20.1, time used: 1 seconds\n"
          ]
        }
      ]
    },
    {
      "cell_type": "markdown",
      "source": [
        "# 4. Preparing Reference Genome\n",
        "\n",
        "Before alignment, we need to index the reference genome:"
      ],
      "metadata": {
        "id": "CbG2d4Sd2mmd"
      }
    },
    {
      "cell_type": "code",
      "source": [
        "!bwa index reference.fasta"
      ],
      "metadata": {
        "colab": {
          "base_uri": "https://localhost:8080/"
        },
        "id": "82EN6gk62n9b",
        "outputId": "c98c16f3-eb24-4d0a-9b89-0e1e60280461"
      },
      "execution_count": 13,
      "outputs": [
        {
          "output_type": "stream",
          "name": "stdout",
          "text": [
            "[bwa_index] Pack FASTA... 0.04 sec\n",
            "[bwa_index] Construct BWT for the packed sequence...\n",
            "[bwa_index] 1.94 seconds elapse.\n",
            "[bwa_index] Update BWT... 0.03 sec\n",
            "[bwa_index] Pack forward-only FASTA... 0.02 sec\n",
            "[bwa_index] Construct SA from BWT and Occ... 0.89 sec\n",
            "[main] Version: 0.7.17-r1188\n",
            "[main] CMD: bwa index reference.fasta\n",
            "[main] Real time: 3.000 sec; CPU: 2.921 sec\n"
          ]
        }
      ]
    },
    {
      "cell_type": "markdown",
      "source": [
        "# 5. Alignment with BWA-MEM\n",
        "\n",
        "BWA-MEM aligns cleaned reads to the reference genome.\n",
        "\n",
        "Input: Cleaned FASTQ files + indexed reference\n",
        "\n",
        "Output: SAM file (Sequence Alignment/Map format)\n",
        "\n",
        "Example SAM format:\n",
        "@SQ     SN:ref  LN:45\n",
        "r001    163     ref     7       30      8M2I4M1D3M      =       37      39      TTAGATAAAGGATACTG     *\n"
      ],
      "metadata": {
        "id": "le21w-7Y2zCG"
      }
    },
    {
      "cell_type": "code",
      "source": [
        "# Align Sample 1\n",
        "!bwa mem reference.fasta cleaned_sample1_R1.fastq.gz cleaned_sample1_R2.fastq.gz > aligned_sample1.sam"
      ],
      "metadata": {
        "colab": {
          "base_uri": "https://localhost:8080/"
        },
        "id": "9adeJf7n24RT",
        "outputId": "71682ab3-d983-47f7-e4c6-d209205e3b65"
      },
      "execution_count": 14,
      "outputs": [
        {
          "output_type": "stream",
          "name": "stdout",
          "text": [
            "[M::bwa_idx_load_from_disk] read 0 ALT contigs\n",
            "[M::process] read 1996 sequences (75848 bp)...\n",
            "[M::mem_pestat] # candidate unique pairs for (FF, FR, RF, RR): (0, 0, 0, 0)\n",
            "[M::mem_pestat] skip orientation FF as there are not enough pairs\n",
            "[M::mem_pestat] skip orientation FR as there are not enough pairs\n",
            "[M::mem_pestat] skip orientation RF as there are not enough pairs\n",
            "[M::mem_pestat] skip orientation RR as there are not enough pairs\n",
            "[M::mem_process_seqs] Processed 1996 reads in 0.061 CPU sec, 0.065 real sec\n",
            "[main] Version: 0.7.17-r1188\n",
            "[main] CMD: bwa mem reference.fasta cleaned_sample1_R1.fastq.gz cleaned_sample1_R2.fastq.gz\n",
            "[main] Real time: 0.087 sec; CPU: 0.078 sec\n"
          ]
        }
      ]
    },
    {
      "cell_type": "code",
      "source": [
        "# Align Sample 2\n",
        "!bwa mem reference.fasta cleaned_sample2_R1.fastq.gz cleaned_sample2_R2.fastq.gz > aligned_sample2.sam\n"
      ],
      "metadata": {
        "colab": {
          "base_uri": "https://localhost:8080/"
        },
        "id": "oiJy8uNH28jk",
        "outputId": "0f6196b9-60f2-4b2f-ecf2-2ee3f9956d47"
      },
      "execution_count": 15,
      "outputs": [
        {
          "output_type": "stream",
          "name": "stdout",
          "text": [
            "[M::bwa_idx_load_from_disk] read 0 ALT contigs\n",
            "[M::process] read 1988 sequences (75544 bp)...\n",
            "[M::mem_pestat] # candidate unique pairs for (FF, FR, RF, RR): (0, 0, 0, 0)\n",
            "[M::mem_pestat] skip orientation FF as there are not enough pairs\n",
            "[M::mem_pestat] skip orientation FR as there are not enough pairs\n",
            "[M::mem_pestat] skip orientation RF as there are not enough pairs\n",
            "[M::mem_pestat] skip orientation RR as there are not enough pairs\n",
            "[M::mem_process_seqs] Processed 1988 reads in 0.042 CPU sec, 0.042 real sec\n",
            "[main] Version: 0.7.17-r1188\n",
            "[main] CMD: bwa mem reference.fasta cleaned_sample2_R1.fastq.gz cleaned_sample2_R2.fastq.gz\n",
            "[main] Real time: 0.060 sec; CPU: 0.055 sec\n"
          ]
        }
      ]
    },
    {
      "cell_type": "markdown",
      "source": [
        "# 6. SAM to BAM Conversion\n",
        "\n",
        "Convert SAM to BAM (binary format), sort, and index for efficient processing:"
      ],
      "metadata": {
        "id": "feFiiKxo3CFC"
      }
    },
    {
      "cell_type": "code",
      "source": [
        "# Process Sample 1\n",
        "!samtools view -bS aligned_sample1.sam > aligned_sample1.bam\n",
        "!samtools sort aligned_sample1.bam -o sorted_sample1.bam\n",
        "!samtools index sorted_sample1.bam\n"
      ],
      "metadata": {
        "id": "CATiPPHP3IKD"
      },
      "execution_count": 16,
      "outputs": []
    },
    {
      "cell_type": "code",
      "source": [
        "# Process Sample 2\n",
        "!samtools view -bS aligned_sample2.sam > aligned_sample2.bam\n",
        "!samtools sort aligned_sample2.bam -o sorted_sample2.bam\n",
        "!samtools index sorted_sample2.bam"
      ],
      "metadata": {
        "id": "PBQ06Eje3OaY"
      },
      "execution_count": 17,
      "outputs": []
    },
    {
      "cell_type": "code",
      "source": [],
      "metadata": {
        "id": "Cu5EJ5BP3RJK"
      },
      "execution_count": null,
      "outputs": []
    },
    {
      "cell_type": "markdown",
      "source": [
        "# 7. Variant Calling with BCFtools\n",
        "\n",
        "Call variants from the aligned reads.\n",
        "\n",
        "Input: Sorted BAM files + reference\n",
        "\n",
        "Output: VCF file (Variant Call Format)\n",
        "\n",
        "Example VCF format:\n",
        "CHROM  POS     ID      REF     ALT     QUAL    FILTER  INFO\n",
        "20      14370   rs6054257       G       A       29      PASS    NS=3;DP=14;AF=0.5"
      ],
      "metadata": {
        "id": "z6dwlVBB3Rpz"
      }
    },
    {
      "cell_type": "code",
      "source": [
        "# Joint variant calling\n",
        "# First, let's create the bam_list.txt file\n",
        "!ls sorted_sample*.bam > bam_list.txt\n",
        "\n",
        "# Verify the content of bam_list.txt\n",
        "!cat bam_list.txt\n",
        "\n",
        "# Now run joint variant calling\n",
        "!bcftools mpileup -Ou -f reference.fasta -b bam_list.txt | bcftools call -mv -Ov -o variants_joint.vcf\n",
        "\n",
        "# Alternative approach without using bam_list.txt:\n",
        "#!bcftools mpileup -Ou -f reference.fasta sorted_sample1.bam sorted_sample2.bam | bcftools call -mv -Ov -o variants_joint.vcf\n",
        "\n",
        "# Verify the output VCF file was created\n",
        "#!ls -lh variants_joint.vcf\n"
      ],
      "metadata": {
        "colab": {
          "base_uri": "https://localhost:8080/"
        },
        "id": "9UARaFKc3dfk",
        "outputId": "a8bf02bf-7e1b-46e0-ea29-a398a9c307a3"
      },
      "execution_count": 20,
      "outputs": [
        {
          "output_type": "stream",
          "name": "stdout",
          "text": [
            "sorted_sample1.bam\n",
            "sorted_sample2.bam\n",
            "[mpileup] 2 samples in 2 input files\n",
            "Note: none of --samples-file, --ploidy or --ploidy-file given, assuming all sites are diploid\n",
            "[mpileup] maximum number of reads per input file set to -d 250\n"
          ]
        }
      ]
    },
    {
      "cell_type": "markdown",
      "source": [
        "# 8. Examining output files to understand output file format\n",
        "\n",
        "1. fastp_report.html: Quality control metrics and graphs\n",
        "2. cleaned_R1/R2.fastq.gz: Filtered reads\n",
        "3. sorted.bam: Aligned reads in binary format\n",
        "4. variants.vcf: Final variants in VCF format\n",
        "\n",
        "Key VCF Fields:\n",
        "- CHROM: Chromosome\n",
        "- POS: Position in reference\n",
        "- REF: Reference base(s)\n",
        "- ALT: Alternative base(s)\n",
        "- QUAL: Quality score\n",
        "- FILTER: Whether variant passed filters\n"
      ],
      "metadata": {
        "id": "G5H1so3Z5mi6"
      }
    },
    {
      "cell_type": "code",
      "source": [
        "# View VCF header and first few variants\n",
        "!head -n 20 variants_joint.vcf"
      ],
      "metadata": {
        "colab": {
          "base_uri": "https://localhost:8080/"
        },
        "id": "dfWMRbBV3n5J",
        "outputId": "d3e79e46-f834-42a7-9ed6-b5345de9123a"
      },
      "execution_count": 21,
      "outputs": [
        {
          "output_type": "stream",
          "name": "stdout",
          "text": [
            "##fileformat=VCFv4.2\n",
            "##FILTER=<ID=PASS,Description=\"All filters passed\">\n",
            "##bcftoolsVersion=1.13+htslib-1.13+ds\n",
            "##bcftoolsCommand=mpileup -Ou -f reference.fasta -b bam_list.txt\n",
            "##reference=file://reference.fasta\n",
            "##contig=<ID=NC_000913.3,length=4641652>\n",
            "##ALT=<ID=*,Description=\"Represents allele(s) other than observed.\">\n",
            "##INFO=<ID=INDEL,Number=0,Type=Flag,Description=\"Indicates that the variant is an INDEL.\">\n",
            "##INFO=<ID=IDV,Number=1,Type=Integer,Description=\"Maximum number of raw reads supporting an indel\">\n",
            "##INFO=<ID=IMF,Number=1,Type=Float,Description=\"Maximum fraction of raw reads supporting an indel\">\n",
            "##INFO=<ID=DP,Number=1,Type=Integer,Description=\"Raw read depth\">\n",
            "##INFO=<ID=VDB,Number=1,Type=Float,Description=\"Variant Distance Bias for filtering splice-site artefacts in RNA-seq data (bigger is better)\",Version=\"3\">\n",
            "##INFO=<ID=RPBZ,Number=1,Type=Float,Description=\"Mann-Whitney U-z test of Read Position Bias (closer to 0 is better)\">\n",
            "##INFO=<ID=MQBZ,Number=1,Type=Float,Description=\"Mann-Whitney U-z test of Mapping Quality Bias (closer to 0 is better)\">\n",
            "##INFO=<ID=BQBZ,Number=1,Type=Float,Description=\"Mann-Whitney U-z test of Base Quality Bias (closer to 0 is better)\">\n",
            "##INFO=<ID=MQSBZ,Number=1,Type=Float,Description=\"Mann-Whitney U-z test of Mapping Quality vs Strand Bias (closer to 0 is better)\">\n",
            "##INFO=<ID=SCBZ,Number=1,Type=Float,Description=\"Mann-Whitney U-z test of Soft-Clip Length Bias (closer to 0 is better)\">\n",
            "##INFO=<ID=FS,Number=1,Type=Float,Description=\"Phred-scaled p-value using Fisher's exact test to detect strand bias\">\n",
            "##INFO=<ID=SGB,Number=1,Type=Float,Description=\"Segregation based metric.\">\n",
            "##INFO=<ID=MQ0F,Number=1,Type=Float,Description=\"Fraction of MQ0 reads (smaller is better)\">\n"
          ]
        }
      ]
    },
    {
      "cell_type": "code",
      "source": [
        "# Get basic statistics\n",
        "!bcftools stats variants_joint.vcf | head -n 30"
      ],
      "metadata": {
        "colab": {
          "base_uri": "https://localhost:8080/"
        },
        "id": "vwckKAp63vgm",
        "outputId": "1f24aa10-016e-4a56-8fd8-0006fa4088e0"
      },
      "execution_count": 22,
      "outputs": [
        {
          "output_type": "stream",
          "name": "stdout",
          "text": [
            "# This file was produced by bcftools stats (1.13+htslib-1.13+ds) and can be plotted using plot-vcfstats.\n",
            "# The command line was:\tbcftools stats  variants_joint.vcf\n",
            "#\n",
            "# Definition of sets:\n",
            "# ID\t[2]id\t[3]tab-separated file names\n",
            "ID\t0\tvariants_joint.vcf\n",
            "# SN, Summary numbers:\n",
            "#   number of records   .. number of data rows in the VCF\n",
            "#   number of no-ALTs   .. reference-only sites, ALT is either \".\" or identical to REF\n",
            "#   number of SNPs      .. number of rows with a SNP\n",
            "#   number of MNPs      .. number of rows with a MNP, such as CC>TT\n",
            "#   number of indels    .. number of rows with an indel\n",
            "#   number of others    .. number of rows with other type, for example a symbolic allele or\n",
            "#                          a complex substitution, such as ACT>TCGA\n",
            "#   number of multiallelic sites     .. number of rows with multiple alternate alleles\n",
            "#   number of multiallelic SNP sites .. number of rows with multiple alternate alleles, all SNPs\n",
            "# \n",
            "#   Note that rows containing multiple types will be counted multiple times, in each\n",
            "#   counter. For example, a row with a SNP and an indel increments both the SNP and\n",
            "#   the indel counter.\n",
            "# \n",
            "# SN\t[2]id\t[3]key\t[4]value\n",
            "SN\t0\tnumber of samples:\t2\n",
            "SN\t0\tnumber of records:\t0\n",
            "SN\t0\tnumber of no-ALTs:\t0\n",
            "SN\t0\tnumber of SNPs:\t0\n",
            "SN\t0\tnumber of MNPs:\t0\n",
            "SN\t0\tnumber of indels:\t0\n",
            "SN\t0\tnumber of others:\t0\n",
            "SN\t0\tnumber of multiallelic sites:\t0\n"
          ]
        }
      ]
    },
    {
      "cell_type": "markdown",
      "source": [
        "# 9. Sample-Specific Analysis\n",
        "Let's look at variants in each sample:"
      ],
      "metadata": {
        "id": "rbuN0AhY3wsx"
      }
    },
    {
      "cell_type": "code",
      "source": [
        "# Count variants in sample 1\n",
        "!echo \"Variants in Sample 1:\"\n",
        "!bcftools view -s sample1 variants_joint.vcf | grep -v \"#\" | wc -l"
      ],
      "metadata": {
        "colab": {
          "base_uri": "https://localhost:8080/"
        },
        "id": "WPusoDEj30nQ",
        "outputId": "3c31e68a-0987-4137-e2cd-0b877f6a6df8"
      },
      "execution_count": 23,
      "outputs": [
        {
          "output_type": "stream",
          "name": "stdout",
          "text": [
            "Variants in Sample 1:\n",
            "Error: subset called for sample that does not exist in header: \"sample1\". Use \"--force-samples\" to ignore this error.\n",
            "0\n"
          ]
        }
      ]
    },
    {
      "cell_type": "code",
      "source": [
        "# Count variants in sample 2\n",
        "!echo \"Variants in Sample 2:\"\n",
        "!bcftools view -s sample2 variants_joint.vcf | grep -v \"#\" | wc -l"
      ],
      "metadata": {
        "id": "DltED1mG34Ez"
      },
      "execution_count": null,
      "outputs": []
    },
    {
      "cell_type": "markdown",
      "source": [
        "# 10. Compare Samples\n",
        "Find variants unique to each sample:"
      ],
      "metadata": {
        "id": "93gOMa2-4I_c"
      }
    },
    {
      "cell_type": "code",
      "source": [
        "# Variants unique to Sample 1\n",
        "!bcftools view -s sample1 variants_joint.vcf | bcftools view -e 'GT=\"0/0\" || GT=\"./.\"' > sample1_unique.vcf\n"
      ],
      "metadata": {
        "id": "HqPTqrcz4MiH"
      },
      "execution_count": null,
      "outputs": []
    },
    {
      "cell_type": "code",
      "source": [
        "# Variants unique to Sample 2\n",
        "!bcftools view -s sample2 variants_joint.vcf | bcftools view -e 'GT=\"0/0\" || GT=\"./.\"' > sample2_unique.vcf\n"
      ],
      "metadata": {
        "id": "gtRZ6Rm_4NbI"
      },
      "execution_count": null,
      "outputs": []
    },
    {
      "cell_type": "markdown",
      "source": [
        "# Take home message\n",
        "File Organization:\n",
        "Input Files:\n",
        "- sample1_R1.fastq.gz, sample1_R2.fastq.gz (Sample 1 paired-end reads)\n",
        "- sample2_R1.fastq.gz, sample2_R2.fastq.gz (Sample 2 paired-end reads)\n",
        "- reference.fasta (Reference genome)\n",
        "\n",
        "Intermediate Files:\n",
        "- cleaned_sample{1,2}_R{1,2}.fastq.gz (Cleaned reads)\n",
        "- sample{1,2}_fastp_report.html (QC reports)\n",
        "- aligned_sample{1,2}.sam (Alignment files)\n",
        "- sorted_sample{1,2}.bam (Sorted alignments)\n",
        "\n",
        "Output Files:\n",
        "- variants_joint.vcf (Combined variants)\n",
        "- sample{1,2}_unique.vcf (Sample-specific variants)"
      ],
      "metadata": {
        "id": "PhI9EUtq4cF2"
      }
    },
    {
      "cell_type": "code",
      "source": [],
      "metadata": {
        "id": "0Y3_CFgR4eud"
      },
      "execution_count": null,
      "outputs": []
    }
  ]
}