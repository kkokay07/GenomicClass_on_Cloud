{
  "nbformat": 4,
  "nbformat_minor": 0,
  "metadata": {
    "colab": {
      "provenance": [],
      "authorship_tag": "ABX9TyNWdCqMFHh3by/GkS+eTCm7",
      "include_colab_link": true
    },
    "kernelspec": {
      "name": "python3",
      "display_name": "Python 3"
    },
    "language_info": {
      "name": "python"
    }
  },
  "cells": [
    {
      "cell_type": "markdown",
      "metadata": {
        "id": "view-in-github",
        "colab_type": "text"
      },
      "source": [
        "<a href=\"https://colab.research.google.com/github/kkokay07/GenomicClass_on_Cloud/blob/master/NGS_Transcriptome_analysis.ipynb\" target=\"_parent\"><img src=\"https://colab.research.google.com/assets/colab-badge.svg\" alt=\"Open In Colab\"/></a>"
      ]
    },
    {
      "cell_type": "markdown",
      "source": [
        "#Transcriptome Analysis Tutorial: Step-by-Step Guide\n",
        "\n",
        "# Creator: Dr. KANAKA K. K.\n",
        "![Kanaka-photo-1-229x300.jpg](data:image/jpeg;base64,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)\n",
        "\n",
        "PhD, ARS  \n",
        "Scientist\n",
        "\n",
        "School of Bioinformatics\n",
        "\n",
        "ICAR-Indian Institute of Agricultural Biotechnology, Ranchi, Jharkhand.\n",
        "\n",
        "Spy on me at :)  \n",
        "[Google Scholar](https://scholar.google.com/citations?hl=en&user=0dQ7Sf8AAAAJ&view_op=list_works);    [ResearchGate](https://www.researchgate.net/profile/Kanaka-K-K/research);    [Website](https://iiab.icar.gov.in/staff/dr-kanaka-k-k/)\n"
      ],
      "metadata": {
        "id": "uiV6INF-2e7N"
      }
    },
    {
      "cell_type": "markdown",
      "source": [
        "##Overview\n",
        "This tutorial will guide you through a complete RNA-seq (transcriptome) analysis pipeline using Mycobacterium tuberculosis data. We'll analyze how antibiotic treatment affects gene expression patterns in this important pathogen.\n",
        "\n",
        "##What you'll learn:\n",
        "* Download and process raw sequencing data\n",
        "* Perform quality control checks\n",
        "* Align reads to a reference genome\n",
        "* Count gene expression levels\n",
        "* Identify differentially expressed genes\n",
        "* Visualize results"
      ],
      "metadata": {
        "id": "HUSRacWJAqO3"
      }
    },
    {
      "cell_type": "markdown",
      "source": [
        "##Step 1: Mount Google Drive\n",
        "\n",
        "**What this does:** Connects your Google Colab session to your Google Drive so you can save and access files.\n",
        "\n",
        "**Why it's important:** All your analysis results will be stored in Google Drive, making them persistent across sessions."
      ],
      "metadata": {
        "id": "wXGZl1D-3uzD"
      }
    },
    {
      "cell_type": "code",
      "execution_count": null,
      "metadata": {
        "collapsed": true,
        "id": "EL2Am0_7H_Vn"
      },
      "outputs": [],
      "source": [
        "from google.colab import drive\n",
        "drive.mount('/content/drive')\n"
      ]
    },
    {
      "cell_type": "markdown",
      "source": [
        "##Step 2: Create Project Directory Structure\n",
        "\n",
        "**What this does:** Creates organized folders for your transcriptomics project with separate directories for raw data, reference files, and results.\n",
        "\n",
        "**Why it's important:** Good organization helps you keep track of files and makes your analysis reproducible. This follows bioinformatics best practices.  \n",
        "\n",
        "**Folder structure created:**\n",
        "\n",
        "`RawData`: Stores downloaded FASTQ files  \n",
        "`Reference`: Stores genome and annotation files  \n",
        "`Results`: Stores all analysis outputs"
      ],
      "metadata": {
        "id": "OSoRTQY838a5"
      }
    },
    {
      "cell_type": "code",
      "source": [
        "import os\n",
        "\n",
        "# Base path in your Google Drive\n",
        "base_path = '/content/drive/MyDrive/MT_Transcriptomics/'\n",
        "\n",
        "# Define folder paths\n",
        "raw_data_dir = os.path.join(base_path, 'RawData')\n",
        "reference_dir = os.path.join(base_path, 'Reference')\n",
        "results_dir = os.path.join(base_path, 'Results')\n",
        "\n",
        "# Create folders if they don't exist\n",
        "for folder in [raw_data_dir, reference_dir, results_dir]:\n",
        "    os.makedirs(folder, exist_ok=True)\n",
        "\n",
        "print(f\"Folders created at: {base_path}\")\n"
      ],
      "metadata": {
        "collapsed": true,
        "id": "InQEOtLDIpyi"
      },
      "execution_count": null,
      "outputs": []
    },
    {
      "cell_type": "markdown",
      "source": [
        "##Step 3: Create FastQC Output Directory\n",
        "\n",
        "**What this does:** Creates a specific subfolder for quality control reports.\n",
        "\n",
        "**Why it's important:** FastQC generates HTML reports that help us assess the quality of our sequencing data. Having a dedicated folder keeps these reports organized."
      ],
      "metadata": {
        "id": "PnU2wmYN4FhH"
      }
    },
    {
      "cell_type": "code",
      "source": [
        "import os\n",
        "\n",
        "fastqc_out_dir = '/content/drive/MyDrive/MT_Transcriptomics/Results/FastQC_Reports'\n",
        "os.makedirs(fastqc_out_dir, exist_ok=True)\n",
        "print(f\"Created directory: {fastqc_out_dir}\")\n"
      ],
      "metadata": {
        "collapsed": true,
        "id": "Dz52IZa8JtwS"
      },
      "execution_count": null,
      "outputs": []
    },
    {
      "cell_type": "markdown",
      "source": [
        "##Step 4: Install SRA Toolkit\n",
        "**What this does:** Installs the NCBI SRA (Sequence Read Archive) Toolkit, which allows us to download sequencing data from public databases.\n",
        "\n",
        "**Why it's important:** Most published RNA-seq data is stored in NCBI's SRA database. The SRA Toolkit provides commands like prefetch and fasterq-dump to download and convert this data.\n",
        "\n",
        "**Key tools installed:**  \n",
        "`prefetch`: Downloads SRA files  \n",
        "`fasterq-dump`: Converts SRA files to FASTQ format"
      ],
      "metadata": {
        "id": "OIPzF_3B4IUm"
      }
    },
    {
      "cell_type": "code",
      "source": [
        "# Install SRA Toolkit\n",
        "!apt-get update\n",
        "!apt-get install -y sra-toolkit"
      ],
      "metadata": {
        "collapsed": true,
        "id": "dFbWBAZJIte2"
      },
      "execution_count": null,
      "outputs": []
    },
    {
      "cell_type": "markdown",
      "source": [
        "##Step 5: Download and Process RNA-seq Data\n",
        "\n",
        "**What this does:** Downloads specific M. tuberculosis RNA-seq datasets from NCBI SRA, converts them to FASTQ format, and compresses them for storage efficiency.\n",
        "\n",
        "**Dataset details:**\n",
        "\n",
        "* SRR1140638: Antibiotic-treated sample\n",
        "\n",
        "* SRR1062940: Control sample\n",
        "\n",
        "* SRR1049749: Antibiotic-treated replicate\n",
        "\n",
        "* SRR1049750: Control replicate\n",
        "\n",
        "**Process steps:**\n",
        "\n",
        "* Downloads .sra files using prefetch\n",
        "* Converts to paired-end FASTQ files using fasterq-dump --split-files\n",
        "* Compresses FASTQ files with gzip to save space\n",
        "* Cleans up intermediate files\n",
        "\n",
        "**Why paired-end:** Modern RNA-seq uses paired-end sequencing, which sequences both ends of DNA fragments, providing better mapping accuracy and ability to detect splice junctions."
      ],
      "metadata": {
        "id": "GJDpSBal4a4X"
      }
    },
    {
      "cell_type": "code",
      "source": [
        "import os\n",
        "import glob\n",
        "\n",
        "# List of SRA runs to download\n",
        "sra_runs = [\n",
        "    'SRR1140638',  # Antibiotic treated\n",
        "    'SRR1062940',  # Control\n",
        "    'SRR1049749',  # Antibiotic treated replicate\n",
        "    'SRR1049750'   # Control replicate\n",
        "]\n",
        "\n",
        "# Path to store raw FASTQ files\n",
        "fastq_path = raw_data_dir  # Assuming raw_data_dir is defined\n",
        "\n",
        "for run in sra_runs:\n",
        "    print(f\"Downloading {run} ...\")\n",
        "    !prefetch {run} --output-directory {fastq_path}\n",
        "\n",
        "    sra_file = os.path.join(fastq_path, run, f\"{run}.sra\")\n",
        "    print(f\"Converting {run} to FASTQ ...\")\n",
        "    # Convert without --gzip\n",
        "    !fasterq-dump {sra_file} -O {fastq_path} --split-files\n",
        "\n",
        "    # Compress the generated FASTQ files\n",
        "    fq1 = os.path.join(fastq_path, f\"{run}_1.fastq\")\n",
        "    fq2 = os.path.join(fastq_path, f\"{run}_2.fastq\")\n",
        "\n",
        "    if os.path.exists(fq1):\n",
        "        print(f\"Compressing {fq1} ...\")\n",
        "        !gzip {fq1}\n",
        "    else:\n",
        "        print(f\"Warning: {fq1} not found!\")\n",
        "\n",
        "    if os.path.exists(fq2):\n",
        "        print(f\"Compressing {fq2} ...\")\n",
        "        !gzip {fq2}\n",
        "    else:\n",
        "        print(f\"Warning: {fq2} not found!\")\n",
        "\n",
        "    # Remove .sra file after conversion\n",
        "    if os.path.exists(sra_file):\n",
        "        print(f\"Removing .sra file for {run} ...\")\n",
        "        os.remove(sra_file)\n",
        "\n",
        "    # Remove empty directory if exists\n",
        "    run_dir = os.path.join(fastq_path, run)\n",
        "    if os.path.isdir(run_dir):\n",
        "        try:\n",
        "            os.rmdir(run_dir)\n",
        "            print(f\"Removed empty directory {run_dir}\")\n",
        "        except OSError:\n",
        "            print(f\"Directory {run_dir} not empty or could not be removed.\")\n",
        "\n",
        "print(\"Download and conversion complete.\")\n"
      ],
      "metadata": {
        "collapsed": true,
        "id": "WSpPYr5qI1SN"
      },
      "execution_count": null,
      "outputs": []
    },
    {
      "cell_type": "markdown",
      "source": [
        "##Step 6: Download Reference Genome and Annotations\n",
        "**What this does:** Downloads the M. tuberculosis H37Rv reference genome sequence (FASTA) and its gene annotations (GFF) from NCBI.  \n",
        "\n",
        "**Why we need this:**\n",
        "* Reference genome: Required for aligning RNA-seq reads to determine where they came from\n",
        "* Gene annotations: Tell us where genes are located so we can count how many reads map to each gene\n",
        "\n",
        "**Files to download:**\n",
        "* GCF_000195955.2_ASM19595v2_genomic.fna: Complete genome sequence\n",
        "* GCF_000195955.2_ASM19595v2_genomic.gff: Gene locations and features\n"
      ],
      "metadata": {
        "id": "X6UYABdJJLJm"
      }
    },
    {
      "cell_type": "code",
      "source": [
        "# Create folder for Mycobacterium tuberculosis reference genome if not already created\n",
        "!mkdir -p /content/drive/MyDrive/MT_Transcriptomics/Reference\n",
        "\n",
        "# Download Mycobacterium tuberculosis H37Rv reference genome (FASTA)\n",
        "!wget -P /content/drive/MyDrive/MT_Transcriptomics/Reference/ \\\n",
        "https://ftp.ncbi.nlm.nih.gov/genomes/all/GCF/000/195/955/GCF_000195955.2_ASM19595v2/GCF_000195955.2_ASM19595v2_genomic.fna.gz\n",
        "\n",
        "# Download corresponding annotation file (GFF format)\n",
        "!wget -P /content/drive/MyDrive/MT_Transcriptomics/Reference/ \\\n",
        "https://ftp.ncbi.nlm.nih.gov/genomes/all/GCF/000/195/955/GCF_000195955.2_ASM19595v2/GCF_000195955.2_ASM19595v2_genomic.gff.gz\n",
        "\n",
        "# Unzip downloaded files\n",
        "!gunzip /content/drive/MyDrive/MT_Transcriptomics/Reference/*.gz\n"
      ],
      "metadata": {
        "collapsed": true,
        "id": "9n5445tAJL8I"
      },
      "execution_count": null,
      "outputs": []
    },
    {
      "cell_type": "markdown",
      "source": [
        "##Step 7: Quality Control with FastQC\n",
        "**What this does:** Runs FastQC on all FASTQ files to generate quality reports that help assess the quality of your sequencing data.  \n",
        "**What FastQC checks:**\n",
        "* Per-base sequence quality scores\n",
        "* Sequence length distribution\n",
        "* GC content\n",
        "* Presence of adapter sequences\n",
        "* Over-represented sequences\n",
        "* Duplication levels\n",
        "\n",
        "**Why it's important:** Poor quality data can lead to incorrect results. FastQC helps identify issues like:\n",
        "* Low quality bases that need trimming\n",
        "* Adapter contamination\n",
        "* Unusual sequence composition\n",
        "\n",
        "**Output:** HTML reports for each FASTQ file showing various quality metrics with pass/warning/fail status."
      ],
      "metadata": {
        "id": "DD0kk1RSJUiv"
      }
    },
    {
      "cell_type": "code",
      "source": [
        "# Install FastQC\n",
        "#!apt-get install -y fastqc\n",
        "\n",
        "# Run FastQC on all raw FASTQ files in your RawData folder\n",
        "!fastqc /content/drive/MyDrive/MT_Transcriptomics/RawData/*.fastq.gz -o /content/drive/MyDrive/MT_Transcriptomics/Results/FastQC_Reports\n"
      ],
      "metadata": {
        "collapsed": true,
        "id": "QEG1s7NdJVSX"
      },
      "execution_count": null,
      "outputs": []
    },
    {
      "cell_type": "markdown",
      "source": [
        "##Step 8: Build HISAT2 Index\n",
        "**What this does:** Creates an index of the reference genome that allows the HISAT2 aligner to quickly find potential alignment locations for sequencing reads.\n",
        "\n",
        "**Why indexing is needed:**\n",
        "* Raw genome files are too large to search efficiently\n",
        "* Indexes use data structures (like suffix arrays) that enable rapid sequence searching\n",
        "* Similar to creating an index in a book - makes finding information much faster\n",
        "\n",
        "**HISAT2 advantages:**\n",
        "* Designed specifically for RNA-seq data\n",
        "* Can handle splice junctions (where exons are joined)\n",
        "* Memory efficient and fast\n",
        "* Successor to TopHat/Bowtie2 pipeline"
      ],
      "metadata": {
        "id": "tMqo4WJYOx9p"
      }
    },
    {
      "cell_type": "code",
      "source": [
        "# Install HISAT2\n",
        "#!apt-get install -y hisat2\n",
        "\n",
        "# Define correct paths for MTB\n",
        "reference_fasta=\"/content/drive/MyDrive/MT_Transcriptomics/Reference/GCF_000195955.2_ASM19595v2_genomic.fna\"\n",
        "hisat2_index_base=\"/content/drive/MyDrive/MT_Transcriptomics/Reference/mtb_index\"\n",
        "\n",
        "# Build HISAT2 index\n",
        "!hisat2-build $reference_fasta $hisat2_index_base\n"
      ],
      "metadata": {
        "collapsed": true,
        "id": "UO9eg_TOOwZW"
      },
      "execution_count": null,
      "outputs": []
    },
    {
      "cell_type": "markdown",
      "source": [
        "##Step 9: Align Reads and Generate BAM Files\n",
        "**What this does:** Aligns paired-end RNA-seq reads to the reference genome using HISAT2, then converts and processes the output into sorted, indexed BAM files.  \n",
        "\n",
        "**Process workflow:**\n",
        "* Alignment: HISAT2 aligns reads to reference genome, output as SAM\n",
        "* Conversion: Convert SAM (text) to BAM (binary) format for efficiency\n",
        "* Sorting: Sort BAM by genomic coordinates for downstream tools\n",
        "* Indexing: Create BAM index (.bai) for rapid random access\n",
        "* Cleanup: Remove intermediate files to save space\n",
        "\n",
        "**Why each step matters:**\n",
        "* SAM→BAM: BAM files are ~4x smaller and faster to process\n",
        "* Sorting: Required for most downstream tools (variant calling, visualization)\n",
        "* Indexing: Allows tools to quickly jump to specific genomic regions\n",
        "\n",
        "**`Output`:** One sorted, indexed BAM file per sample containing all aligned reads."
      ],
      "metadata": {
        "id": "9KTABAWEO5qT"
      }
    },
    {
      "cell_type": "code",
      "source": [
        "import subprocess\n",
        "import glob\n",
        "import os\n",
        "\n",
        "raw_data_dir = '/content/drive/MyDrive/MT_Transcriptomics/RawData'\n",
        "results_dir = '/content/drive/MyDrive/MT_Transcriptomics/Results/Alignments'\n",
        "os.makedirs(results_dir, exist_ok=True)\n",
        "\n",
        "# Use the correct HISAT2 index base path (without extension)\n",
        "hisat2_index_base = '/content/drive/MyDrive/MT_Transcriptomics/Reference/mtb_index'\n",
        "\n",
        "# List all R1 FASTQ files\n",
        "r1_files = sorted(glob.glob(os.path.join(raw_data_dir, '*_1.fastq.gz')))\n",
        "\n",
        "for r1 in r1_files:\n",
        "    r2 = r1.replace('_1.fastq.gz', '_2.fastq.gz')\n",
        "    sample_name = os.path.basename(r1).split('_1.fastq.gz')[0]\n",
        "\n",
        "    sam_out = os.path.join(results_dir, sample_name + '.sam')\n",
        "    bam_unsorted = os.path.join(results_dir, sample_name + '.bam')\n",
        "    bam_sorted = os.path.join(results_dir, sample_name + '.sorted.bam')\n",
        "\n",
        "    print(f\"Aligning sample {sample_name} ...\")\n",
        "    try:\n",
        "        subprocess.run(\n",
        "            ['hisat2', '-x', hisat2_index_base, '-1', r1, '-2', r2, '-S', sam_out],\n",
        "            check=True\n",
        "        )\n",
        "    except subprocess.CalledProcessError:\n",
        "        print(f\"Error: HISAT2 alignment failed for sample {sample_name}. Skipping this sample.\")\n",
        "        continue\n",
        "\n",
        "    print(f\"Converting SAM to BAM for sample {sample_name} ...\")\n",
        "    try:\n",
        "        subprocess.run(['samtools', 'view', '-bS', sam_out, '-o', bam_unsorted], check=True)\n",
        "    except subprocess.CalledProcessError:\n",
        "        print(f\"Error: samtools view failed for sample {sample_name}. Skipping this sample.\")\n",
        "        continue\n",
        "\n",
        "    print(f\"Sorting BAM file for sample {sample_name} ...\")\n",
        "    try:\n",
        "        subprocess.run(['samtools', 'sort', '-o', bam_sorted, bam_unsorted], check=True)\n",
        "    except subprocess.CalledProcessError:\n",
        "        print(f\"Error: samtools sort failed for sample {sample_name}. Skipping this sample.\")\n",
        "        continue\n",
        "\n",
        "    print(f\"Indexing sorted BAM for sample {sample_name} ...\")\n",
        "    try:\n",
        "        subprocess.run(['samtools', 'index', bam_sorted], check=True)\n",
        "    except subprocess.CalledProcessError:\n",
        "        print(f\"Error: samtools index failed for sample {sample_name}. Skipping this sample.\")\n",
        "        continue\n",
        "\n",
        "    print(f\"Cleaning up intermediate files for sample {sample_name} ...\")\n",
        "    try:\n",
        "        os.remove(sam_out)\n",
        "        os.remove(bam_unsorted)\n",
        "    except FileNotFoundError as e:\n",
        "        print(f\"Warning: file not found during cleanup: {e}\")\n",
        "\n",
        "print(\"Alignment and BAM processing complete.\")\n"
      ],
      "metadata": {
        "collapsed": true,
        "id": "4kQDv379O6Lj"
      },
      "execution_count": null,
      "outputs": []
    },
    {
      "cell_type": "markdown",
      "source": [
        "##Step 10: Convert GFF to GTF Format\n",
        "**What this does:** Converts the gene annotation file from GFF3 format to GTF format using gffread.  \n",
        "**Why this conversion is needed:**\n",
        "* GFF3: General Feature Format version 3, more flexible but complex\n",
        "* GTF: Gene Transfer Format, simpler and required by many RNA-seq tools. `featureCounts` (our counting tool) works better with GTF format\n",
        "\n",
        "**What gffread does:**\n",
        "* Parses GFF3 hierarchical gene structures\n",
        "* Outputs simplified GTF with gene/transcript/exon features\n",
        "* Maintains essential information needed for read counting"
      ],
      "metadata": {
        "id": "JuQDyBqaRkg_"
      }
    },
    {
      "cell_type": "code",
      "source": [
        "#!apt-get install -y gffread\n"
      ],
      "metadata": {
        "id": "tp-kIkzQYNQh"
      },
      "execution_count": 35,
      "outputs": []
    },
    {
      "cell_type": "code",
      "source": [
        "!gffread /content/drive/MyDrive/MT_Transcriptomics/Reference/GCF_000195955.2_ASM19595v2_genomic.gff -T -o /content/drive/MyDrive/MT_Transcriptomics/Reference/GCF_000195955.2_ASM19595v2_genomic.gtf\n"
      ],
      "metadata": {
        "id": "Uj4xSb_mmWEX"
      },
      "execution_count": 56,
      "outputs": []
    },
    {
      "cell_type": "markdown",
      "source": [
        "##Step 11: Count Gene Expression with featureCounts\n",
        "**What this does:** Counts how many sequencing reads map to each gene using featureCounts from the Subread package.  \n",
        "**Key parameters:**  \n",
        "* `-p`: Specifies paired-end reads (counts fragments, not individual reads)\n",
        "* `-s 2`: Reverse-stranded library (common for many RNA-seq protocols)\n",
        "* `-F GTF`: Input annotation format is GTF\n",
        "* `-g transcript_id`: Group features by transcript ID for counting\n",
        "* `-t CDS`: Count reads mapping to coding sequences only\n",
        "\n",
        "**Why gene counting is important:**\n",
        "* Converts alignment data into expression levels\n",
        "* Each gene gets a count representing its expression level\n",
        "* Higher counts = higher gene expression\n",
        "* These counts become input for differential expression analysis\n",
        "\n",
        "**Output:** A tab-delimited file with genes as rows and samples as columns, containing raw read counts."
      ],
      "metadata": {
        "id": "mqYZrL_m6R77"
      }
    },
    {
      "cell_type": "code",
      "source": [
        "# Install subread (featureCounts)\n",
        "!apt-get install -y subread"
      ],
      "metadata": {
        "id": "sFqXVD_TX2Ck"
      },
      "execution_count": null,
      "outputs": []
    },
    {
      "cell_type": "code",
      "source": [
        "import glob\n",
        "import os\n",
        "\n",
        "# Directory where BAM files are stored\n",
        "results_dir = \"/content/drive/MyDrive/MT_Transcriptomics/Results/Alignments\"\n",
        "\n",
        "# Use the original GTF annotation file\n",
        "reference_gtf = \"/content/drive/MyDrive/MT_Transcriptomics/Reference/GCF_000195955.2_ASM19595v2_genomic.gtf\"\n",
        "\n",
        "# Collect sorted BAM files\n",
        "bam_files = sorted(glob.glob(os.path.join(results_dir, '*.sorted.bam')))\n",
        "bam_list_str = ' '.join(bam_files)\n",
        "\n",
        "# Output counts file\n",
        "counts_out = '/content/drive/MyDrive/MT_Transcriptomics/Results/gene_counts.txt'\n",
        "\n",
        "# Run featureCounts with paired-end, reverse stranded (-s 2), specifying GTF format\n",
        "!featureCounts -p -s 2 -F GTF -a {reference_gtf} -o {counts_out} -g transcript_id -t CDS {bam_list_str}"
      ],
      "metadata": {
        "id": "voILjfQMXk0A"
      },
      "execution_count": null,
      "outputs": []
    },
    {
      "cell_type": "markdown",
      "source": [
        "##Step 12: Load and Examine Count Data\n",
        "**What this does: **Loads the gene count matrix from featureCounts and examines its structure to understand the data format.  \n",
        "**Understanding the output:**\n",
        "* Geneid: Gene identifiers from the annotation\n",
        "Chr, Start, End, Strand: Genomic coordinates of each gene\n",
        "* Length: Gene length in base pairs\n",
        "* Sample columns: Raw read counts for each sample\n",
        "\n",
        "**Why we examine the data first:**\n",
        "* Understand the file structure before analysis\n",
        "* Check that all samples are present\n",
        "* Verify that count data looks reasonable\n",
        "* Identify column positions for downstream processing"
      ],
      "metadata": {
        "id": "I2eHTZPbqrGD"
      }
    },
    {
      "cell_type": "code",
      "source": [
        "import pandas as pd\n",
        "\n",
        "counts_file = \"/content/drive/MyDrive/MT_Transcriptomics/Results/gene_counts.txt\"\n",
        "\n",
        "counts_df = pd.read_csv(counts_file, sep='\\t', skiprows=1)\n",
        "print(counts_df.columns)  # This should now show Geneid, Chr, Start, etc.\n",
        "\n",
        "# Set the index to Geneid\n",
        "counts_df.set_index('Geneid', inplace=True)\n",
        "\n",
        "print(counts_df.head())\n"
      ],
      "metadata": {
        "id": "blMcLIiAr6_R"
      },
      "execution_count": null,
      "outputs": []
    },
    {
      "cell_type": "markdown",
      "source": [
        "##Step 13: Filter Low-Expression Genes\n",
        "**What this does:** Removes genes with very low expression levels (total counts < 10 across all samples) to improve statistical power and reduce multiple testing burden.\n",
        "\n",
        "**Why filtering is important:**\n",
        "* Noise reduction: Very low counts are often just noise\n",
        "* Statistical power: Fewer tests = better p-value correction\n",
        "* Computational efficiency: Fewer genes to analyze\n",
        "* Biological relevance: Very lowly expressed genes may not be functionally important\n",
        "\n",
        "**Common filtering approaches:**\n",
        "* Total count threshold (used here: ≥10 total counts)\n",
        "* CPM threshold (e.g., ≥1 CPM in ≥2 samples)\n",
        "* FPKM threshold for longer transcripts"
      ],
      "metadata": {
        "id": "NjMKTtfC6a4Z"
      }
    },
    {
      "cell_type": "code",
      "source": [
        "# Filter genes with total counts >= 10 across all samples (or use counts per million threshold)\n",
        "filtered_counts = counts_df[counts_df.iloc[:, 5:].sum(axis=1) >= 10]\n",
        "print(f\"Number of genes before filtering: {counts_df.shape[0]}\")\n",
        "print(f\"Number of genes after filtering: {filtered_counts.shape[0]}\")\n"
      ],
      "metadata": {
        "id": "MmhjEWZLs3yz"
      },
      "execution_count": null,
      "outputs": []
    },
    {
      "cell_type": "markdown",
      "source": [
        "##Step 14: Normalize to Counts Per Million (CPM)\n",
        "**What this does:** Normalizes raw read counts to account for differences in sequencing depth (library size) between samples.  \n",
        "**Why normalization is needed:**\n",
        "Different samples may have different total read counts\n",
        "We want to compare expression levels, not sequencing depth\n",
        "CPM = (gene counts / total sample counts) × 1,000,000\n",
        "\n",
        "**CPM advantages:**\n",
        "* Simple and intuitive normalization\n",
        "* Accounts for library size differences\n",
        "* Widely used and understood\n",
        "* Good for exploratory analysis and visualization\n",
        "\n",
        "**Alternative normalizations:**\n",
        "* RPKM/FPKM (accounts for gene length)\n",
        "* TPM (transcripts per million)\n",
        "* TMM (trimmed mean of M-values)"
      ],
      "metadata": {
        "id": "6pYVuu4d6iK_"
      }
    },
    {
      "cell_type": "code",
      "source": [
        "sample_counts = filtered_counts.iloc[:, 6:]  # Only count columns\n",
        "library_sizes = sample_counts.sum(axis=0)\n",
        "\n",
        "cpm = sample_counts.divide(library_sizes, axis=1) * 1e6\n"
      ],
      "metadata": {
        "id": "_SRjPKf2s7bC"
      },
      "execution_count": 79,
      "outputs": []
    },
    {
      "cell_type": "markdown",
      "source": [
        "##Step 15: Log2 Transform CPM Data\n",
        "**What this does:** Applies log2 transformation to CPM values to make the data more suitable for statistical analysis and visualization.  \n",
        "**Why log transformation is important:**\n",
        "* Variance stabilization: Makes variance more consistent across expression levels\n",
        "* Normal distribution: Log-transformed counts are more normally distributed\n",
        "* Fold-change interpretation: Differences in log space represent fold changes\n",
        "* Visualization: Makes expression patterns more visible in plots\n"
      ],
      "metadata": {
        "id": "llgWDd3S6mnu"
      }
    },
    {
      "cell_type": "code",
      "source": [
        "import numpy as np\n",
        "\n",
        "log_cpm = np.log2(cpm + 1)\n"
      ],
      "metadata": {
        "id": "ApIm90optAaL"
      },
      "execution_count": 80,
      "outputs": []
    },
    {
      "cell_type": "markdown",
      "source": [
        "##Step 16: Principal Component Analysis (PCA)\n",
        "**What this does:** Performs PCA on the log2-transformed CPM data to visualize sample relationships and identify potential batch effects or outliers.  \n",
        "**What PCA shows:**\n",
        "* Sample clustering: Similar samples cluster together\n",
        "* Treatment effects: Treated vs control samples should separate\n",
        "* Outliers: Samples that don't cluster as expected\n",
        "* Batch effects: Unwanted technical variation between sample groups\n",
        "\n",
        "**How to interpret:**\n",
        "* PC1 (x-axis): Captures the most variation in the data\n",
        "* PC2 (y-axis): Captures the second most variation\n",
        "* Distance: Closer points = more similar gene expression profiles\n",
        "* Good result: Clear separation between treatment groups"
      ],
      "metadata": {
        "id": "s83z__Mt6wNK"
      }
    },
    {
      "cell_type": "code",
      "source": [
        "from sklearn.decomposition import PCA\n",
        "import matplotlib.pyplot as plt\n",
        "\n",
        "pca = PCA(n_components=2)\n",
        "pca_result = pca.fit_transform(log_cpm.T)  # transpose to have samples as rows\n",
        "\n",
        "plt.figure(figsize=(8,6))\n",
        "plt.scatter(pca_result[:,0], pca_result[:,1])\n",
        "plt.xlabel('PC1')\n",
        "plt.ylabel('PC2')\n",
        "plt.title('PCA of samples')\n",
        "plt.show()\n"
      ],
      "metadata": {
        "id": "dNah-ae8tEDN"
      },
      "execution_count": null,
      "outputs": []
    },
    {
      "cell_type": "markdown",
      "source": [
        "##Step 17: Complete Data Processing and Visualization\n",
        "**What this does:** Combines all preprocessing steps into a comprehensive workflow and creates an improved PCA plot with sample labels.   \n",
        "\n",
        "**Complete workflow:**\n",
        "* Filter lowly expressed genes (≥10 total counts)\n",
        "* Calculate CPM normalization\n",
        "* Apply log2 transformation\n",
        "* Generate PCA plot with sample labels\n",
        "* Save all processed data to files\n",
        "\n",
        "**Why save intermediate files:**\n",
        "* Reproducibility: Can restart analysis from any point\n",
        "* Sharing: Others can use your processed data\n",
        "* Backup: Prevents loss of computational work\n",
        "* Downstream analysis: Processed data ready for other tools"
      ],
      "metadata": {
        "id": "JyY4S-8q61Qz"
      }
    },
    {
      "cell_type": "code",
      "source": [
        "import pandas as pd\n",
        "import numpy as np\n",
        "from sklearn.decomposition import PCA\n",
        "import matplotlib.pyplot as plt\n",
        "\n",
        "# Assuming 'counts_df' is already loaded with your featureCounts output\n",
        "# and has annotation columns: Geneid, Chr, Start, End, Strand, Length\n",
        "# Count data starts from the 7th column (index 6)\n",
        "\n",
        "# Step 1: Filter lowly expressed genes (total counts >= 10 across samples)\n",
        "count_data = counts_df.iloc[:, 6:]  # Select count columns only\n",
        "filtered_counts = counts_df[count_data.sum(axis=1) >= 10]\n",
        "\n",
        "print(f\"Genes before filtering: {counts_df.shape[0]}\")\n",
        "print(f\"Genes after filtering: {filtered_counts.shape[0]}\")\n",
        "\n",
        "# Step 2: Normalize to Counts Per Million (CPM)\n",
        "filtered_count_data = filtered_counts.iloc[:, 6:]\n",
        "library_sizes = filtered_count_data.sum(axis=0)\n",
        "cpm = filtered_count_data.divide(library_sizes, axis=1) * 1e6\n",
        "\n",
        "# Step 3: Log2 transform CPM (add pseudo-count 1)\n",
        "log_cpm = np.log2(cpm + 1)\n",
        "\n",
        "# Step 4: PCA plot of log2 CPM data\n",
        "pca = PCA(n_components=2)\n",
        "pca_result = pca.fit_transform(log_cpm.T)  # samples as rows\n",
        "\n",
        "plt.figure(figsize=(8,6))\n",
        "plt.scatter(pca_result[:, 0], pca_result[:, 1])\n",
        "for i, sample in enumerate(log_cpm.columns):\n",
        "    plt.text(pca_result[i, 0], pca_result[i, 1], sample, fontsize=9)\n",
        "plt.xlabel('PC1')\n",
        "plt.ylabel('PC2')\n",
        "plt.title('PCA of samples (log2 CPM)')\n",
        "plt.grid(True)\n",
        "plt.tight_layout()\n",
        "plt.show()\n",
        "\n",
        "# Step 5: Save results to files\n",
        "filtered_counts.to_csv('/content/filtered_gene_counts.txt', sep='\\t')\n",
        "cpm.to_csv('/content/gene_cpm.txt', sep='\\t')\n",
        "log_cpm.to_csv('/content/gene_log2_cpm.txt', sep='\\t')\n",
        "\n",
        "print(\"Filtered counts, CPM, and log2 CPM saved.\")\n"
      ],
      "metadata": {
        "id": "sUcgCNiutYKZ"
      },
      "execution_count": null,
      "outputs": []
    },
    {
      "cell_type": "markdown",
      "source": [
        "## Step 18: Install Statistical Analysis Packages\n",
        "**What this does:** Installs Python packages needed for statistical analysis of differential gene expression.\n",
        "\n",
        "**Packages installed:**\n",
        "* pandas: Data manipulation and analysis\n",
        "* numpy: Numerical computing\n",
        "* statsmodels: Statistical modeling and tests\n",
        "\n",
        "**Why these packages:**\n",
        "* pandas: Essential for handling gene expression matrices\n",
        "* numpy: Provides mathematical functions for data analysis\n",
        "* statsmodels: Provides linear modeling capabilities for differential expression analysis\n",
        "\n"
      ],
      "metadata": {
        "id": "j7A5DwRJ68Vj"
      }
    },
    {
      "cell_type": "code",
      "source": [
        "pip install pandas numpy statsmodels\n"
      ],
      "metadata": {
        "id": "retG9znqu3Om"
      },
      "execution_count": null,
      "outputs": []
    },
    {
      "cell_type": "markdown",
      "source": [
        "##Step 19: Differential Expression Analysis\n",
        "**What this does:** Identifies genes that are significantly differentially expressed between antibiotic-treated and control samples using linear modeling.\n",
        "\n",
        "**Analysis workflow:**\n",
        "-Load data: Import count matrix from featureCounts  \n",
        "-Create metadata: Define which samples are treated vs control  \n",
        "-Filter genes: Remove lowly expressed genes  \n",
        "-Transform data: Log2 transform for linear modeling  \n",
        "-Build design matrix: Set up statistical model (treatment vs control)  \n",
        "-Fit models: Run linear regression for each gene  \n",
        "-Multiple testing correction: Adjust p-values using Benjamini-Hochberg FDR\n",
        "\n",
        "**Statistical approach:**\n",
        "* Linear model: Gene expression ~ treatment condition\n",
        "* Log2 fold change: Coefficient represents log2(treated/control)\n",
        "* P-value: Tests if fold change is significantly different from 0\n",
        "* FDR correction: Controls false discovery rate in multiple comparisons\n",
        "\n",
        "**Output:** Table with genes, fold changes, p-values, and adjusted p-values."
      ],
      "metadata": {
        "id": "Q0Q1lyJG69Ta"
      }
    },
    {
      "cell_type": "code",
      "source": [
        "import pandas as pd\n",
        "import numpy as np\n",
        "import statsmodels.api as sm\n",
        "import os\n",
        "\n",
        "# Step 1: Load counts file from featureCounts\n",
        "counts_path = \"/content/drive/MyDrive/MT_Transcriptomics/Results/gene_counts.txt\"\n",
        "counts_df = pd.read_csv(counts_path, sep='\\t', comment='#')\n",
        "\n",
        "# Inspect columns and simplify sample column names\n",
        "print(\"Original columns:\", counts_df.columns)\n",
        "\n",
        "# Step 2: Extract raw counts matrix (samples start from 7th column, index 6)\n",
        "count_data = counts_df.iloc[:, 6:].copy()\n",
        "\n",
        "# Simplify sample names by keeping only filenames, not full paths\n",
        "count_data.columns = [os.path.basename(x) for x in count_data.columns]\n",
        "\n",
        "# Set gene IDs as index\n",
        "count_data.index = counts_df['Geneid']\n",
        "\n",
        "# Step 3: Create sample metadata DataFrame\n",
        "# Example: first two samples are control, next two are treated - adjust as needed\n",
        "sample_metadata = pd.DataFrame({\n",
        "    'sample': count_data.columns,\n",
        "    'condition': ['control', 'control', 'treated', 'treated']\n",
        "}).set_index('sample')\n",
        "\n",
        "print(\"Sample metadata:\\n\", sample_metadata)\n",
        "\n",
        "# Step 4: Filter genes - keep genes with sum of counts > 10 across all samples\n",
        "filtered_counts = count_data.loc[count_data.sum(axis=1) > 10, :]\n",
        "print(f\"Filtered from {count_data.shape[0]} to {filtered_counts.shape[0]} genes\")\n",
        "\n",
        "# Step 5: Log2 transform normalized counts (adding pseudocount 1)\n",
        "log_counts = np.log2(filtered_counts + 1)\n",
        "\n",
        "# Step 6: Build design matrix for linear modeling\n",
        "# Ensure sample order matches between counts and metadata\n",
        "conditions = sample_metadata.loc[filtered_counts.columns, 'condition']\n",
        "\n",
        "design_matrix = pd.get_dummies(conditions, drop_first=True)  # 'treated' vs 'control'\n",
        "design_matrix = sm.add_constant(design_matrix)\n",
        "\n",
        "print(\"Design matrix:\\n\", design_matrix)\n",
        "\n",
        "# Step 7: Fit gene-wise linear models using OLS\n",
        "results = []\n",
        "for gene in log_counts.index:\n",
        "    y = log_counts.loc[gene].values.astype(float)\n",
        "    X = design_matrix.values.astype(float)\n",
        "    model = sm.OLS(y, X)\n",
        "    fit = model.fit()\n",
        "    coef = fit.params[1]  # coefficient for conditiontreated\n",
        "    pval = fit.pvalues[1]\n",
        "    results.append((gene, coef, pval))\n",
        "\n",
        "# Step 8: Compile results DataFrame\n",
        "results_df = pd.DataFrame(results, columns=['Gene', 'Log2FoldChange', 'pvalue'])\n",
        "\n",
        "# Optional: adjust p-values for multiple testing (Benjamini-Hochberg FDR)\n",
        "results_df['padj'] = sm.stats.multipletests(results_df['pvalue'], method='fdr_bh')[1]\n",
        "\n",
        "# Step 9: Save results\n",
        "results_df.to_csv(\"/content/drive/MyDrive/MT_Transcriptomics/Results/differential_expression_results.csv\", index=False)\n",
        "\n",
        "print(\"Differential expression analysis complete. Results saved.\")\n"
      ],
      "metadata": {
        "id": "wC-37saawJMg"
      },
      "execution_count": null,
      "outputs": []
    },
    {
      "cell_type": "markdown",
      "source": [
        "##Step 20: Create Volcano Plot and Identify Significant Genes\n",
        "**What this does:** Creates a volcano plot to visualize differential expression results and identifies significantly up- and down-regulated genes.\n",
        "\n",
        "**Volcano plot interpretation:**\n",
        "* X-axis: Log2 fold change (negative = downregulated, positive = upregulated)\n",
        "* Y-axis: -log10(adjusted p-value) (higher = more significant)\n",
        "* Color coding:  \n",
        " Grey: Not significant  \n",
        " Red: Significantly upregulated  \n",
        " Blue: Significantly downregulated\n",
        "\n",
        "**Significance thresholds:**\n",
        "* Fold change: |log2FC| > 1 (2-fold change)\n",
        "* Statistical significance: Adjusted p-value < 0.05 (5% FDR)\n",
        "\n",
        "**What the plot reveals:**\n",
        "* Significant genes: Points in upper left/right corners\n",
        "* Effect size: Distance from vertical center line\n",
        "* Statistical confidence: Height above horizontal threshold line\n",
        "* Overall pattern: How many genes respond to treatment\n",
        "\n",
        "**Output files:**\n",
        "* Volcano plot image\n",
        "* Lists of upregulated and downregulated genes\n",
        "* Complete results table with significance calls"
      ],
      "metadata": {
        "id": "cQfeZZOw7EoB"
      }
    },
    {
      "cell_type": "code",
      "source": [
        "import matplotlib.pyplot as plt\n",
        "import numpy as np\n",
        "import pandas as pd\n",
        "\n",
        "# Load results (if not already in memory)\n",
        "results_path = \"/content/drive/MyDrive/MT_Transcriptomics/Results/differential_expression_results.csv\"\n",
        "results_df = pd.read_csv(results_path)\n",
        "\n",
        "# Define thresholds for significance\n",
        "log2fc_threshold = 1  # absolute log2 fold change threshold\n",
        "padj_threshold = 0.05  # adjusted p-value threshold\n",
        "\n",
        "# Save upregulated genes\n",
        "sig_up = results_df[(results_df['Log2FoldChange'] > log2fc_threshold) & (results_df['padj'] < padj_threshold)]\n",
        "sig_up.to_csv('/content/drive/MyDrive/MT_Transcriptomics/Results/upregulated_genes.csv', index=False)\n",
        "\n",
        "# Save downregulated genes\n",
        "sig_down = results_df[(results_df['Log2FoldChange'] < -log2fc_threshold) & (results_df['padj'] < padj_threshold)]\n",
        "sig_down.to_csv('/content/drive/MyDrive/MT_Transcriptomics/Results/downregulated_genes.csv', index=False)\n",
        "\n",
        "# Create volcano plot\n",
        "plt.figure(figsize=(10,6))\n",
        "\n",
        "# Scatter plot of all points\n",
        "plt.scatter(\n",
        "    results_df['Log2FoldChange'],\n",
        "    -np.log10(results_df['padj']),\n",
        "    color='grey', alpha=0.5, label='Not significant'\n",
        ")\n",
        "\n",
        "# Highlight significantly upregulated genes\n",
        "plt.scatter(\n",
        "    sig_up['Log2FoldChange'],\n",
        "    -np.log10(sig_up['padj']),\n",
        "    color='red', alpha=0.8, label='Upregulated'\n",
        ")\n",
        "\n",
        "# Highlight significantly downregulated genes\n",
        "plt.scatter(\n",
        "    sig_down['Log2FoldChange'],\n",
        "    -np.log10(sig_down['padj']),\n",
        "    color='blue', alpha=0.8, label='Downregulated'\n",
        ")\n",
        "\n",
        "plt.axvline(x=log2fc_threshold, color='black', linestyle='--')\n",
        "plt.axvline(x=-log2fc_threshold, color='black', linestyle='--')\n",
        "plt.axhline(y=-np.log10(padj_threshold), color='black', linestyle='--')\n",
        "\n",
        "plt.xlabel('Log2 Fold Change')\n",
        "plt.ylabel('-Log10 Adjusted p-value')\n",
        "plt.title('Volcano Plot of Differential Expression')\n",
        "plt.legend()\n",
        "plt.tight_layout()\n",
        "\n",
        "# Save plot to file\n",
        "plt.savefig('/content/drive/MyDrive/MT_Transcriptomics/Results/volcano_plot.png', dpi=300)\n",
        "\n",
        "plt.show()\n"
      ],
      "metadata": {
        "id": "bQAmUyY5w1Tp"
      },
      "execution_count": null,
      "outputs": []
    }
  ]
}