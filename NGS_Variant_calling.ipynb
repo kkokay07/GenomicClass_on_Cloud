{
  "nbformat": 4,
  "nbformat_minor": 0,
  "metadata": {
    "colab": {
      "provenance": [],
      "include_colab_link": true
    },
    "kernelspec": {
      "name": "python3",
      "display_name": "Python 3"
    },
    "language_info": {
      "name": "python"
    }
  },
  "cells": [
    {
      "cell_type": "markdown",
      "metadata": {
        "id": "view-in-github",
        "colab_type": "text"
      },
      "source": [
        "<a href=\"https://colab.research.google.com/github/kkokay07/GenomicClass_on_Cloud/blob/master/NGS_Variant_calling.ipynb\" target=\"_parent\"><img src=\"https://colab.research.google.com/assets/colab-badge.svg\" alt=\"Open In Colab\"/></a>"
      ]
    },
    {
      "cell_type": "markdown",
      "source": [
        "# Creator: Dr. KANAKA K. K.\n",
        "![Kanaka-photo-1-229x300.jpg](data:image/jpeg;base64,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)\n",
        "\n",
        "PhD, ARS  \n",
        "Scientist\n",
        "\n",
        "School of Bioinformatics\n",
        "\n",
        "ICAR-Indian Institute of Agricultural Biotechnology, Ranchi, Jharkhand.\n",
        "\n",
        "Spy on me at :)  \n",
        "[Google Scholar](https://scholar.google.com/citations?hl=en&user=0dQ7Sf8AAAAJ&view_op=list_works);    [ResearchGate](https://www.researchgate.net/profile/Kanaka-K-K/research);    [Website](https://iiab.icar.gov.in/staff/dr-kanaka-k-k/)"
      ],
      "metadata": {
        "id": "YqmYkeW7DSqC"
      }
    },
    {
      "cell_type": "markdown",
      "source": [
        "**NGS Variant Calling Tutorial**\n",
        "\n",
        "- **Aim:** Identify genetic variants (SNPs) in E. coli samples\n",
        "- **Tools:** fastp, BWA, SAMtools, BCFtools\n",
        "- **Input:** Two E. coli K-12 paired-end sequencing samples (SRR10527348, SRR10527349)\n",
        "- **Steps:**\n",
        "  1. Quality control of raw reads\n",
        "  2. Alignment to reference genome\n",
        "  3. BAM file processing\n",
        "  4. Variant calling and filtering\n",
        "- **Environment:** Google Colab (cloud-based, no local installation needed)\n",
        "- **Expected output:** VCF file containing high-quality genetic variants\n",
        "- **Time:** ~2 hours (depends on data download speed)\n",
        "\n",
        "# If you find descriptions as boring, skip the text and simply run the codes!"
      ],
      "metadata": {
        "id": "jn5q7u_uDNRJ"
      }
    },
    {
      "cell_type": "markdown",
      "source": [
        "# i. Setup Environment\n",
        "\"\"\"First, we need to install the required bioinformatics tools\"\"\""
      ],
      "metadata": {
        "id": "-T4AAjzaw7_f"
      }
    },
    {
      "cell_type": "code",
      "source": [
        "# Import required libraries and setup directories\n",
        "import os\n",
        "from google.colab import drive\n",
        "import datetime\n",
        "\n",
        "# Mount Google Drive\n",
        "drive.mount('/content/drive')\n",
        "\n",
        "# Create directory structure\n",
        "project_dir = \"/content/variant_calling\"\n",
        "os.makedirs(project_dir, exist_ok=True)\n",
        "\n",
        "# Create subdirectories\n",
        "dirs = [\n",
        "    'raw_data',\n",
        "    'cleaned_data',\n",
        "    'reference',\n",
        "    'alignments',\n",
        "    'variants',\n",
        "    'reports'\n",
        "]\n",
        "\n",
        "for d in dirs:\n",
        "    os.makedirs(f\"{project_dir}/{d}\", exist_ok=True)\n",
        "\n",
        "print(\"Directory structure created successfully!\")"
      ],
      "metadata": {
        "id": "R5DD4TH07Cze"
      },
      "execution_count": null,
      "outputs": []
    },
    {
      "cell_type": "markdown",
      "source": [
        "# ii. Install tools"
      ],
      "metadata": {
        "id": "uGICnduL7SHr"
      }
    },
    {
      "cell_type": "markdown",
      "source": [
        "**fastp**\n",
        "- Quality control tool for FASTQ files\n",
        "- Removes low quality reads/bases\n",
        "- Trims sequencing adapters\n",
        "- Provides QC reports with statistics and graphs\n",
        "- Filters out contaminated reads\n",
        "\n",
        "**BWA (Burrows-Wheeler Aligner)**\n",
        "- Aligns sequencing reads to reference genome\n",
        "- Specially designed for short read alignment\n",
        "- BWA-MEM algorithm handles paired-end reads\n",
        "- Outputs alignments in SAM format\n",
        "- Handles mismatches and gaps in sequences\n",
        "\n",
        "**SAMtools**\n",
        "- Manipulates SAM/BAM format files\n",
        "- Converts SAM to BAM (binary format)\n",
        "- Sorts and indexes BAM files\n",
        "- Generates alignment statistics\n",
        "- Extracts specific regions from alignments\n",
        "- Views and filters aligned reads\n",
        "\n",
        "**BCFtools**\n",
        "- Variant calling from BAM files\n",
        "- Creates and manipulates VCF files\n",
        "- Filters variants based on quality scores\n",
        "- Performs variant genotyping\n",
        "- Handles multi-sample variant calling\n",
        "- Allows annotation of variants"
      ],
      "metadata": {
        "id": "AmttWkFoE53F"
      }
    },
    {
      "cell_type": "code",
      "source": [
        "# Install required tools\n",
        "!apt-get update && apt-get install -y fastp bwa samtools bcftools"
      ],
      "metadata": {
        "id": "DW-cM6c47Ucn"
      },
      "execution_count": null,
      "outputs": []
    },
    {
      "cell_type": "code",
      "source": [
        "# Install SRA toolkit\n",
        "!wget https://ftp-trace.ncbi.nlm.nih.gov/sra/sdk/current/sratoolkit.current-ubuntu64.tar.gz\n",
        "!tar -xzf sratoolkit.current-ubuntu64.tar.gz\n",
        "!mv sratoolkit.*/bin/* /usr/local/bin/\n",
        "!rm sratoolkit.current-ubuntu64.tar.gz"
      ],
      "metadata": {
        "id": "hP5U31QPA-DR"
      },
      "execution_count": null,
      "outputs": []
    },
    {
      "cell_type": "markdown",
      "source": [
        "# iii. Understanding the Input Data: FASTQ Format\n",
        "\n",
        "FASTQ files contain sequencing reads with quality scores. Each read has 4 lines:\n",
        "1. Read identifier (starts with @)\n",
        "2. Sequence\n",
        "3. '+' separator\n",
        "4. Quality scores (ASCII-encoded)\n",
        "\n",
        "Example of FASTQ format:\n",
        "@SRR001666.1\n",
        "GATTTGGGGTTCAAAGCAGTATCGATCAAATAGTAAATCCATTTGTTCAACTCACAGTTT\n",
        "+\n",
        "!''*((((***+))%%%++)(%%%%).1***-+*''))**55CCF>>>>>>CCCCCCC65\n",
        "\n",
        "Let's download a small test dataset (E. coli K-12): This tutorial demonstrates variant calling with two samples, each with paired-end reads.\n",
        "Sample1 and Sample2\n",
        "Each sample has forward (R1) and reverse (R2) reads."
      ],
      "metadata": {
        "id": "ZNK8WQh5x80n"
      }
    },
    {
      "cell_type": "markdown",
      "source": [
        "# 1. Download samples"
      ],
      "metadata": {
        "id": "KuZn053PFEXJ"
      }
    },
    {
      "cell_type": "code",
      "source": [
        "# Download sample 1\n",
        "%cd /content/variant_calling/raw_data\n",
        "print(\"Downloading Sample 1...\")\n",
        "!fastq-dump --split-files SRR10527348\n",
        "print(\"\\nSample 1 files:\")\n",
        "!ls -lh SRR10527348*\n",
        "\n"
      ],
      "metadata": {
        "id": "c3Dn6Al9yMlK"
      },
      "execution_count": null,
      "outputs": []
    },
    {
      "cell_type": "code",
      "source": [
        "# Download sample 2\n",
        "%cd /content/variant_calling/raw_data\n",
        "print(\"\\nDownloading Sample 2...\")\n",
        "!fastq-dump --split-files SRR10527349\n",
        "print(\"\\nSample 2 files:\")\n",
        "!ls -lh SRR10527349*"
      ],
      "metadata": {
        "id": "wJs72Tw7BG2N"
      },
      "execution_count": null,
      "outputs": []
    },
    {
      "cell_type": "markdown",
      "source": [
        "# 2. Reference Genome\n",
        "**Reference Genome**\n",
        "\n",
        "**Definition**: A digital nucleotide sequence database assembled to represent a species' genetic makeup, used as a standard for comparison in sequencing studies.\n",
        "\n",
        "**Common Formats**:\n",
        "- FASTA (.fa/.fasta)\n",
        "  - Simple text format\n",
        "  - Header line starts with '>' symbol\n",
        "  - Contains sequence data in subsequent lines\n",
        "  - Example:\n",
        "    ```\n",
        "    >Chr1\n",
        "    ATGCTAGCTAGCTGATCG\n",
        "    GCTAGCTAGCTGATCGAT\n",
        "    ```\n",
        "\n",
        "**Required Files for Alignment**:\n",
        "- Main reference file (.fasta)\n",
        "- Index files (created by tools)\n",
        "  - BWA index (.amb, .ann, .bwt, .pac, .sa)\n",
        "  - FASTA index (.fai)\n",
        "  - Dictionary (.dict)\n",
        "\n",
        "**Common Sources**:\n",
        "- NCBI RefSeq\n",
        "- Ensembl\n",
        "- UCSC Genome Browser\n",
        "\n",
        "**E. coli Reference Example**:\n",
        "- Strain: K-12 MG1655\n",
        "- Size: ~4.6 Mb\n",
        "- Single circular chromosome\n",
        "- Well-annotated for teaching purposes"
      ],
      "metadata": {
        "id": "9LPK8yX1zXTH"
      }
    },
    {
      "cell_type": "code",
      "source": [
        "# Download the reference genome\n",
        "%cd /content/variant_calling/reference\n",
        "\n",
        "print(\"Downloading reference genome...\")\n",
        "!wget https://ftp.ncbi.nlm.nih.gov/genomes/all/GCF/000/005/845/GCF_000005845.2_ASM584v2/GCF_000005845.2_ASM584v2_genomic.fna.gz\n",
        "!gunzip GCF_000005845.2_ASM584v2_genomic.fna.gz\n",
        "!mv GCF_000005845.2_ASM584v2_genomic.fna reference.fasta"
      ],
      "metadata": {
        "id": "xTnUAF4aze8A"
      },
      "execution_count": null,
      "outputs": []
    },
    {
      "cell_type": "markdown",
      "source": [
        "**Why Index Reference Files**\n",
        "\n",
        "1. **Speed & Efficiency**\n",
        "   - Enables quick lookup of sequences\n",
        "   - Avoids scanning entire file for each query\n",
        "   - Reduces memory usage\n",
        "\n",
        "2. **Random Access**\n",
        "   - Allows direct access to specific regions\n",
        "   - Skips reading entire genome\n",
        "   - Essential for targeted analysis\n",
        "\n",
        "3. **Tool Requirements**\n",
        "   - BWA requires .amb, .ann, .bwt, .pac, .sa files\n",
        "   - SAMtools needs .fai file\n",
        "   - Most alignment tools won't work without indexes\n",
        "\n",
        "4. **Common Analogy**\n",
        "   - Like a book's table of contents\n",
        "   - Helps find content quickly\n",
        "   - Instead of reading every page\n",
        "\n",
        "5. **Practical Impact**\n",
        "   - Reduces runtime from hours to minutes\n",
        "   - Enables processing of large datasets\n",
        "   - Critical for high-throughput analysis"
      ],
      "metadata": {
        "id": "DzIiCyKFFhVU"
      }
    },
    {
      "cell_type": "code",
      "source": [
        "# Index reference genome\n",
        "print(\"\\nIndexing reference genome...\")\n",
        "!bwa index reference.fasta\n",
        "!samtools faidx reference.fasta"
      ],
      "metadata": {
        "id": "NqdL11q_BgYH"
      },
      "execution_count": null,
      "outputs": []
    },
    {
      "cell_type": "markdown",
      "source": [
        "# 3. Quality Control with fastp\n",
        "\n",
        "fastp performs quality control and filtering on FASTQ files.\n",
        "- Removes low-quality bases\n",
        "- Trims adapters\n",
        "- Generates QC reports\n",
        "\n",
        "Input:\n",
        "- Raw FASTQ files\n",
        "\n",
        "\n",
        "Output:\n",
        "- Cleaned FASTQ files\n",
        "- HTML report with quality metrics\n",
        "\n",
        "**FASTQ Format** (Cleaned FASTQ files)\n",
        "```\n",
        "@SRR10527348.1\n",
        "ATGCTAGCTAGCTGATCGATGC\n",
        "+\n",
        "!''*((((***+))%%%++)(%%\n",
        "```\n",
        "- Line 1: Header (starts with @)\n",
        "- Line 2: DNA sequence\n",
        "- Line 3: Separator (+)\n",
        "- Line 4: Quality scores (ASCII-encoded)\n",
        "\n",
        "**HTML Report Format**\n",
        "```html\n",
        "Summary Section:\n",
        "- Total reads: 1,000,000\n",
        "- Filtered reads: 50,000\n",
        "- Q30 bases: 95%\n",
        "\n",
        "Graphs/Charts:\n",
        "- Quality score distribution\n",
        "- GC content plot\n",
        "- Length distribution\n",
        "- Adapter content\n",
        "\n",
        "Detailed Statistics:\n",
        "- Before/After filtering metrics\n",
        "- Duplication rates\n",
        "- Base composition\n",
        "```\n",
        "\n",
        "Key Features of HTML Report:\n",
        "- Interactive visualizations\n",
        "- Color-coded metrics\n",
        "- Downloadable charts\n",
        "- Easy to share/view in browser\n",
        "- No special software needed\n",
        "\n",
        "*Note: fastp generates comprehensive reports that help assess sequencing quality and effectiveness of cleaning steps*"
      ],
      "metadata": {
        "id": "bE9qFAvczr0n"
      }
    },
    {
      "cell_type": "code",
      "source": [
        "# Process Sample 1\n",
        "print(\"Processing Sample 1...\")\n",
        "!fastp \\\n",
        "    -i /content/variant_calling/raw_data/SRR10527348_1.fastq \\\n",
        "    -I /content/variant_calling/raw_data/SRR10527348_2.fastq \\\n",
        "    -o /content/variant_calling/cleaned_data/SRR10527348_1.clean.fastq.gz \\\n",
        "    -O /content/variant_calling/cleaned_data/SRR10527348_2.clean.fastq.gz \\\n",
        "    --html /content/variant_calling/reports/SRR10527348_fastp.html \\\n",
        "    --json /content/variant_calling/reports/SRR10527348_fastp.json \\\n",
        "    --qualified_quality_phred 20 \\\n",
        "    --length_required 50"
      ],
      "metadata": {
        "collapsed": true,
        "id": "9I5srfCVzxsB"
      },
      "execution_count": null,
      "outputs": []
    },
    {
      "cell_type": "code",
      "source": [
        "# Process Sample 2\n",
        "print(\"\\nProcessing Sample 2...\")\n",
        "!fastp \\\n",
        "    -i /content/variant_calling/raw_data/SRR10527349_1.fastq \\\n",
        "    -I /content/variant_calling/raw_data/SRR10527349_2.fastq \\\n",
        "    -o /content/variant_calling/cleaned_data/SRR10527349_1.clean.fastq.gz \\\n",
        "    -O /content/variant_calling/cleaned_data/SRR10527349_2.clean.fastq.gz \\\n",
        "    --html /content/variant_calling/reports/SRR10527349_fastp.html \\\n",
        "    --json /content/variant_calling/reports/SRR10527349_fastp.json \\\n",
        "    --qualified_quality_phred 20 \\\n",
        "    --length_required 50"
      ],
      "metadata": {
        "id": "XlL9WPKSBoJh"
      },
      "execution_count": null,
      "outputs": []
    },
    {
      "cell_type": "markdown",
      "source": [
        "# 5. Alignment with BWA-MEM\n",
        "\n",
        "BWA-MEM aligns cleaned reads to the reference genome.\n",
        "\n",
        "Input: Cleaned FASTQ files + indexed reference\n",
        "\n",
        "Output: SAM file (Sequence Alignment/Map format)\n",
        "\n",
        "Example SAM format:\n",
        "@SQ     SN:ref  LN:45\n",
        "r001    163     ref     7       30      8M2I4M1D3M      =       37      39      TTAGATAAAGGATACTG     *\n"
      ],
      "metadata": {
        "id": "le21w-7Y2zCG"
      }
    },
    {
      "cell_type": "code",
      "source": [
        "# Align Sample 1\n",
        "print(\"Aligning Sample 1...\")\n",
        "!bwa mem -t 2 \\\n",
        "    /content/variant_calling/reference/reference.fasta \\\n",
        "    /content/variant_calling/cleaned_data/SRR10527348_1.clean.fastq.gz \\\n",
        "    /content/variant_calling/cleaned_data/SRR10527348_2.clean.fastq.gz \\\n",
        "    > /content/variant_calling/alignments/SRR10527348.sam"
      ],
      "metadata": {
        "id": "9adeJf7n24RT"
      },
      "execution_count": null,
      "outputs": []
    },
    {
      "cell_type": "code",
      "source": [
        "# Align Sample 2\n",
        "print(\"\\nAligning Sample 2...\")\n",
        "!bwa mem -t 2 \\\n",
        "    /content/variant_calling/reference/reference.fasta \\\n",
        "    /content/variant_calling/cleaned_data/SRR10527349_1.clean.fastq.gz \\\n",
        "    /content/variant_calling/cleaned_data/SRR10527349_2.clean.fastq.gz \\\n",
        "    > /content/variant_calling/alignments/SRR10527349.sam"
      ],
      "metadata": {
        "id": "-Ix0mKGeBvaC"
      },
      "execution_count": null,
      "outputs": []
    },
    {
      "cell_type": "markdown",
      "source": [
        "# 6. SAM to BAM Conversion\n",
        "\n",
        "Convert SAM to BAM (binary format), sort, and index for efficient processing:\n",
        "\n",
        "**SAM to BAM Conversion Importance**\n",
        "\n",
        "1. **Storage Space**\n",
        "   - BAM is binary (compressed) format\n",
        "   - Takes 3-4x less space than SAM\n",
        "   - Crucial for large datasets\n",
        "\n",
        "2. **Processing Speed**\n",
        "   - BAM files process faster\n",
        "   - Binary format = quicker computer reading\n",
        "   - Essential for high-throughput analysis\n",
        "\n",
        "3. **Required for Tools**\n",
        "   - Most tools require BAM format\n",
        "   - Sorting and indexing needs BAM\n",
        "   - Standard in variant calling pipelines\n",
        "\n",
        "4. **Data Security**\n",
        "   - Less chance of corruption\n",
        "   - Maintains data integrity\n",
        "   - Checksums can verify content\n",
        "\n",
        "5. **Sorting & Indexing**\n",
        "   - BAM files can be sorted by position\n",
        "   - Enables creation of index files\n",
        "   - Allows quick access to specific regions\n",
        "\n",
        "6. **Compatibility**\n",
        "   - Industry standard format\n",
        "   - Works with all major tools\n",
        "   - Required for downstream analysis\n",
        "\n",
        "7. **Memory Efficiency**\n",
        "   - Better memory handling\n",
        "   - Faster data streaming\n",
        "   - Efficient parallel processing"
      ],
      "metadata": {
        "id": "feFiiKxo3CFC"
      }
    },
    {
      "cell_type": "code",
      "source": [
        "# Process Sample 1\n",
        "!samtools view -bS /content/variant_calling/alignments/SRR10527348.sam > /content/variant_calling/alignments/SRR10527348.bam\n",
        "!samtools sort /content/variant_calling/alignments/SRR10527348.bam -o /content/variant_calling/alignments/SRR10527348.sorted.bam\n",
        "!samtools index /content/variant_calling/alignments/SRR10527348.sorted.bam\n",
        "!rm /content/variant_calling/alignments/SRR10527348.sam /content/variant_calling/alignments/SRR10527348.bam"
      ],
      "metadata": {
        "id": "CATiPPHP3IKD"
      },
      "execution_count": null,
      "outputs": []
    },
    {
      "cell_type": "code",
      "source": [
        "# Process Sample 2\n",
        "!samtools view -bS /content/variant_calling/alignments/SRR10527349.sam > /content/variant_calling/alignments/SRR10527349.bam\n",
        "!samtools sort /content/variant_calling/alignments/SRR10527349.bam -o /content/variant_calling/alignments/SRR10527349.sorted.bam\n",
        "!samtools index /content/variant_calling/alignments/SRR10527349.sorted.bam\n",
        "!rm /content/variant_calling/alignments/SRR10527349.sam /content/variant_calling/alignments/SRR10527349.bam"
      ],
      "metadata": {
        "id": "PBQ06Eje3OaY"
      },
      "execution_count": null,
      "outputs": []
    },
    {
      "cell_type": "markdown",
      "source": [
        "# 7. Variant Calling with BCFtools\n",
        "\n",
        "Call variants from the aligned reads.\n",
        "\n",
        "Input: Sorted BAM files + reference\n",
        "\n",
        "Output: VCF file (Variant Call Format)\n",
        "\n",
        "Example VCF format:\n",
        "CHROM  POS     ID      REF     ALT     QUAL    FILTER  INFO\n",
        "20      14370   rs6054257       G       A       29      PASS    NS=3;DP=14;AF=0.5\n",
        "\n",
        "**Variant Calling Overview**\n",
        "\n",
        "1. **Definition**\n",
        "   - Process of identifying DNA sequence variations\n",
        "   - Compares sample reads to reference genome\n",
        "   - Detects SNPs, insertions, deletions, etc.\n",
        "\n",
        "2. **Key Requirements**\n",
        "   - Quality-filtered reads\n",
        "   - Properly aligned BAM files\n",
        "   - Indexed reference genome\n",
        "   - Sufficient read depth/coverage\n",
        "\n",
        "3. **Basic Steps**\n",
        "   - Pile up reads at each position\n",
        "   - Calculate allele frequencies\n",
        "   - Apply quality filters\n",
        "   - Determine genotypes\n",
        "   - Estimate confidence scores\n",
        "\n",
        "4. **Common Variants Types**\n",
        "   - SNPs (Single Nucleotide Polymorphisms)\n",
        "   - Indels (Insertions/Deletions)\n",
        "   - Structural Variants\n",
        "   - Copy Number Variations\n",
        "\n",
        "5. **Output Format (VCF)**\n",
        "   - Chromosome\n",
        "   - Position\n",
        "   - Reference allele\n",
        "   - Alternative allele\n",
        "   - Quality scores\n",
        "   - Additional annotations\n",
        "\n",
        "6. **Important Metrics**\n",
        "   - Read depth (coverage)\n",
        "   - Mapping quality\n",
        "   - Base quality\n",
        "   - Genotype quality\n",
        "   - Allele frequency\n",
        "\n",
        "7. **Common Filters**\n",
        "   - Minimum read depth\n",
        "   - Minimum quality score\n",
        "   - Strand bias\n",
        "   - Mapping quality\n",
        "   - Allele balance"
      ],
      "metadata": {
        "id": "z6dwlVBB3Rpz"
      }
    },
    {
      "cell_type": "code",
      "source": [
        "# Prepare for variant calling\n",
        "%cd /content/variant_calling/variants\n",
        "\n",
        "# Create list of BAM files\n",
        "!ls /content/variant_calling/alignments/*.sorted.bam > bam_list.txt"
      ],
      "metadata": {
        "id": "9UARaFKc3dfk"
      },
      "execution_count": null,
      "outputs": []
    },
    {
      "cell_type": "code",
      "source": [
        "# Run variant calling\n",
        "!bcftools mpileup \\\n",
        "    -f /content/variant_calling/reference/reference.fasta \\\n",
        "    -b bam_list.txt \\\n",
        "    -d 1000 \\\n",
        "    -q 20 \\\n",
        "    -Q 20 \\\n",
        "    --annotate FORMAT/AD,FORMAT/DP \\\n",
        "    -Ou | \\\n",
        "    bcftools call -mv --ploidy 2 -P 0.01 -Oz \\\n",
        "    -o variants.vcf.gz"
      ],
      "metadata": {
        "id": "ulxaa3WYCFfm"
      },
      "execution_count": null,
      "outputs": []
    },
    {
      "cell_type": "code",
      "source": [
        "# Index VCF\n",
        "!bcftools index variants.vcf.gz"
      ],
      "metadata": {
        "id": "VbAkqtgyCHtc"
      },
      "execution_count": null,
      "outputs": []
    },
    {
      "cell_type": "markdown",
      "source": [
        "Here are the key points about VCF filtering importance:\n",
        "\n",
        "- Removes low-quality variant calls to reduce false positives\n",
        "- Ensures adequate sequencing coverage by filtering based on read depth\n",
        "- Increases reliability of downstream genetic analyses\n",
        "- Makes data more manageable by reducing file size\n",
        "- Maintains high-confidence variants for research validity"
      ],
      "metadata": {
        "id": "RAxHOQeXHDA5"
      }
    },
    {
      "cell_type": "code",
      "source": [
        "# Filter variants\n",
        "!bcftools filter \\\n",
        "    -i 'QUAL>=20 && FORMAT/DP>=10' \\\n",
        "    -O z \\\n",
        "    -o variants.filtered.vcf.gz \\\n",
        "    variants.vcf.gz\n",
        "\n",
        "!bcftools index variants.filtered.vcf.gz"
      ],
      "metadata": {
        "id": "MbHA3BazCMF6"
      },
      "execution_count": null,
      "outputs": []
    },
    {
      "cell_type": "markdown",
      "source": [
        "# 8. Examining output files to understand output file format\n",
        "\n",
        "1. fastp_report.html: Quality control metrics and graphs\n",
        "2. cleaned_R1/R2.fastq.gz: Filtered reads\n",
        "3. sorted.bam: Aligned reads in binary format\n",
        "4. variants.vcf: Final variants in VCF format\n",
        "\n",
        "Key VCF Fields:\n",
        "- CHROM: Chromosome\n",
        "- POS: Position in reference\n",
        "- REF: Reference base(s)\n",
        "- ALT: Alternative base(s)\n",
        "- QUAL: Quality score\n",
        "- FILTER: Whether variant passed filters\n"
      ],
      "metadata": {
        "id": "G5H1so3Z5mi6"
      }
    },
    {
      "cell_type": "code",
      "source": [
        "# Check alignment statistics\n",
        "print(\"Checking alignment statistics...\")\n",
        "!samtools flagstat /content/variant_calling/alignments/SRR10527348.sorted.bam\n",
        "!samtools flagstat /content/variant_calling/alignments/SRR10527349.sorted.bam"
      ],
      "metadata": {
        "id": "dfWMRbBV3n5J"
      },
      "execution_count": null,
      "outputs": []
    },
    {
      "cell_type": "code",
      "source": [
        "# Check variant counts\n",
        "print(\"\\nChecking variant counts:\")\n",
        "!echo \"Raw variants:\"\n",
        "!bcftools view /content/variant_calling/variants/variants.vcf.gz | grep -v \"^#\" | wc -l\n",
        "!echo \"Filtered variants:\"\n",
        "!bcftools view /content/variant_calling/variants/variants.filtered.vcf.gz | grep -v \"^#\" | wc -l"
      ],
      "metadata": {
        "id": "88SLpF8XCZYz"
      },
      "execution_count": null,
      "outputs": []
    },
    {
      "cell_type": "code",
      "source": [
        "# View first few variants\n",
        "print(\"\\nFirst few variants:\")\n",
        "!bcftools view /content/variant_calling/variants/variants.filtered.vcf.gz | head -n 10"
      ],
      "metadata": {
        "id": "1FhojZt0Ce7A"
      },
      "execution_count": null,
      "outputs": []
    },
    {
      "cell_type": "markdown",
      "source": [
        "# Take home message\n",
        "Here are the key takeaways for the fastp to VCF generation pipeline:\n",
        "\n",
        "Input Files:\n",
        "- Raw FASTQ files (paired-end reads)\n",
        "- Reference genome FASTA file\n",
        "\n",
        "Key Steps:\n",
        "- Quality control with fastp (trimming adapters, low quality bases)\n",
        "- Read alignment to reference using BWA-MEM\n",
        "- Convert SAM to BAM format and sort\n",
        "- Variant calling with BCFtools to generate VCF\n",
        "- VCF filtering based on quality metrics\n",
        "\n",
        "Important Output Files:\n",
        "- Cleaned FASTQ files from fastp\n",
        "- QC reports showing read quality metrics\n",
        "- Sorted BAM files containing aligned reads\n",
        "- VCF file with filtered variants\n",
        "- Alignment statistics reports\n",
        "\n",
        "Best Practices:\n",
        "- Always check QC reports before proceeding\n",
        "- Index reference genome and BAM files\n",
        "- Sort BAM files before variant calling\n",
        "- Apply appropriate filters to raw VCF file\n",
        "- Keep track of intermediate files and reports"
      ],
      "metadata": {
        "id": "PhI9EUtq4cF2"
      }
    }
  ]
}